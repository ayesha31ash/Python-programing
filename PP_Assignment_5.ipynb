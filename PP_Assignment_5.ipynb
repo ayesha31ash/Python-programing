{
  "nbformat": 4,
  "nbformat_minor": 0,
  "metadata": {
    "colab": {
      "provenance": [],
      "collapsed_sections": []
    },
    "kernelspec": {
      "name": "python3",
      "display_name": "Python 3"
    },
    "language_info": {
      "name": "python"
    }
  },
  "cells": [
    {
      "cell_type": "markdown",
      "source": [
        "1. Write a Python Program to Find LCM?"
      ],
      "metadata": {
        "id": "IPE248H-tnAW"
      }
    },
    {
      "cell_type": "code",
      "execution_count": 1,
      "metadata": {
        "colab": {
          "base_uri": "https://localhost:8080/"
        },
        "id": "F7_L0hvqs3s1",
        "outputId": "0ffd3aeb-b9c6-4315-d6cb-9969a3c6c79c"
      },
      "outputs": [
        {
          "output_type": "stream",
          "name": "stdout",
          "text": [
            "Enter num1 : 8\n",
            "Enter num2 : 7\n",
            "The LCM of 8 and 7 is 56\n"
          ]
        }
      ],
      "source": [
        "x = int(input(\"Enter num1 : \"))\n",
        "y = int(input(\"Enter num2 : \"))\n",
        "\n",
        "# big no.\n",
        "if x > y:\n",
        "    big = x\n",
        "else:\n",
        "    big = y\n",
        "    \n",
        "while(True):\n",
        "    if big % x == 0 and big % y == 0 :\n",
        "        lcm = big\n",
        "        break\n",
        "    big+=1\n",
        "    \n",
        "print(\"The LCM of {} and {} is {}\".format(x,y,lcm))"
      ]
    },
    {
      "cell_type": "markdown",
      "source": [
        "2. Write a Python Program to Find HCF?"
      ],
      "metadata": {
        "id": "NE9R4qCHtc-2"
      }
    },
    {
      "cell_type": "code",
      "source": [
        "x = int(input(\"Enter num1 : \"))\n",
        "y = int(input(\"Enter num2 : \"))\n",
        "\n",
        "# big no\n",
        "if x < y:\n",
        "    small = x\n",
        "else:\n",
        "    small = y\n",
        "hcf = 0   \n",
        "for i in range(1,small+1):\n",
        "    if x % i == 0 and y % i == 0 :\n",
        "        hcf = i\n",
        "    \n",
        "print(\"The hcf of {} and {} is {}\".format(x,y,hcf))"
      ],
      "metadata": {
        "colab": {
          "base_uri": "https://localhost:8080/"
        },
        "id": "zc3cdh9UYNiz",
        "outputId": "096bb14a-2269-41aa-a31b-359e78faa1cd"
      },
      "execution_count": 2,
      "outputs": [
        {
          "output_type": "stream",
          "name": "stdout",
          "text": [
            "Enter num1 : 9\n",
            "Enter num2 : 5\n",
            "The hcf of 9 and 5 is 1\n"
          ]
        }
      ]
    },
    {
      "cell_type": "markdown",
      "source": [
        "3. Write a Python Program to Convert Decimal to Binary, Octal and Hexadecimal?"
      ],
      "metadata": {
        "id": "R96rMW-XtfP2"
      }
    },
    {
      "cell_type": "code",
      "source": [
        "x=int(input(\"Enter number :\"))\n",
        "\n",
        "print(x, \"in binary : \", bin(x))\n",
        "print(x, \"in Octal : \", oct(x))\n",
        "print(x, \"in Hexadecimal : \",hex(x))"
      ],
      "metadata": {
        "colab": {
          "base_uri": "https://localhost:8080/"
        },
        "id": "iDnKQ3aRYSf0",
        "outputId": "3d3d7c80-2e96-4d53-f6f8-f2cd2976d058"
      },
      "execution_count": 3,
      "outputs": [
        {
          "output_type": "stream",
          "name": "stdout",
          "text": [
            "Enter number :4\n",
            "4 in binary :  0b100\n",
            "4 in Octal :  0o4\n",
            "4 in Hexadecimal :  0x4\n"
          ]
        }
      ]
    },
    {
      "cell_type": "markdown",
      "source": [
        "4. Write a Python Program To Find ASCII value of a character?"
      ],
      "metadata": {
        "id": "QkYr6dlgthuA"
      }
    },
    {
      "cell_type": "code",
      "source": [
        "str = input(\"Enter a Charecter : \")\n",
        "# ord gives the ASCII value of a character\n",
        "print(\"Ascii value of {} is {}\".format(str,ord(str)))"
      ],
      "metadata": {
        "colab": {
          "base_uri": "https://localhost:8080/"
        },
        "id": "zRRoec-gYVEP",
        "outputId": "29e23ae9-38d2-4d38-9dcf-665619a775fa"
      },
      "execution_count": 4,
      "outputs": [
        {
          "output_type": "stream",
          "name": "stdout",
          "text": [
            "Enter a Charecter : @\n",
            "Ascii value of @ is 64\n"
          ]
        }
      ]
    },
    {
      "cell_type": "markdown",
      "source": [
        "5. Write a Python Program to Make a Simple Calculator with 4 basic mathematical operations?"
      ],
      "metadata": {
        "id": "PzhLJdAotk_N"
      }
    },
    {
      "cell_type": "code",
      "source": [
        "x = float(input(\"Enter num1 :\"))\n",
        "y = float(input(\"Enter num2 :\"))\n",
        "\n",
        "op = input(\"Enter + to add : \\nEnter - to Sub :\\nEnter * to multi :\\nEnter / to div : \") \n",
        "\n",
        "add = x + y\n",
        "sub = x - y\n",
        "mul = x * y\n",
        "\n",
        "\n",
        "if op == \"+\":\n",
        "    print(\"{} + {} = {}\".format(x,y,add))\n",
        "elif op == \"-\":\n",
        "    print(\"{} - {} = {}\".format(x,y,sub))\n",
        "elif op == \"*\":\n",
        "    print(\"{} * {} = {}\".format(x,y,mul))\n",
        "elif op == \"/\":\n",
        "    if num1 == 0 or num2 == 0:\n",
        "        print(\"Division with zero is not possible\")\n",
        "    else:\n",
        "        div = x / y\n",
        "        print(\"{} / {} = {}\".format(x,y,div))\n",
        "else:\n",
        "    print(\"Invalid input\")"
      ],
      "metadata": {
        "colab": {
          "base_uri": "https://localhost:8080/"
        },
        "id": "U91zh4P6YYYb",
        "outputId": "147b4c39-4fa9-4ad1-aa86-0e31ce835fd6"
      },
      "execution_count": 6,
      "outputs": [
        {
          "output_type": "stream",
          "name": "stdout",
          "text": [
            "Enter num1 :5\n",
            "Enter num2 :9\n",
            "Enter + to add : \n",
            "Enter - to Sub :\n",
            "Enter * to multi :\n",
            "Enter / to div : *\n",
            "5.0 * 9.0 = 45.0\n"
          ]
        }
      ]
    }
  ]
}