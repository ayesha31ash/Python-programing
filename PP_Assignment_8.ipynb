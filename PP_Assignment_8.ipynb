{
  "nbformat": 4,
  "nbformat_minor": 0,
  "metadata": {
    "colab": {
      "provenance": [],
      "collapsed_sections": []
    },
    "kernelspec": {
      "name": "python3",
      "display_name": "Python 3"
    },
    "language_info": {
      "name": "python"
    }
  },
  "cells": [
    {
      "cell_type": "markdown",
      "source": [
        "1. Write a Python Program to Add Two Matrices?"
      ],
      "metadata": {
        "id": "iZb-BbKli_KF"
      }
    },
    {
      "cell_type": "code",
      "source": [
        "import numpy as np\n",
        "\n",
        "mat1 = np.array([[1,4,6],\n",
        "        [7,5,88],\n",
        "        [8,5,77]])\n",
        "mat2 = np.array([[12,43,74],\n",
        "        [5,8,3],\n",
        "        [8,9,9]])\n",
        "\n",
        "Matsum = np.add(mat1,mat2)\n",
        "print(\"The Sum of two matrix \\n\\n{}  and \\n\\n{}  is \\n\\n{} \".format(mat1,mat2,Matsum))"
      ],
      "metadata": {
        "colab": {
          "base_uri": "https://localhost:8080/"
        },
        "id": "xQ_Pz7w_ENqc",
        "outputId": "6a0b4768-d312-4975-e3d8-fb505cb99d48"
      },
      "execution_count": 1,
      "outputs": [
        {
          "output_type": "stream",
          "name": "stdout",
          "text": [
            "The Sum of two matrix \n",
            "\n",
            "[[ 1  4  6]\n",
            " [ 7  5 88]\n",
            " [ 8  5 77]]  and \n",
            "\n",
            "[[12 43 74]\n",
            " [ 5  8  3]\n",
            " [ 8  9  9]]  is \n",
            "\n",
            "[[13 47 80]\n",
            " [12 13 91]\n",
            " [16 14 86]] \n"
          ]
        }
      ]
    },
    {
      "cell_type": "markdown",
      "source": [
        "2. Write a Python Program to Multiply Two Matrices?"
      ],
      "metadata": {
        "id": "4Qy-E4ykEE9T"
      }
    },
    {
      "cell_type": "code",
      "source": [
        "import numpy as np\n",
        "\n",
        "mat1 = np.array([[13,42,64],\n",
        "        [3,7,4],\n",
        "        [9,1,2]])\n",
        "mat2 = np.array([[2,4,7],\n",
        "        [55,67,8],\n",
        "        [8,9,1]])\n",
        "\n",
        "mulMat = np.dot(mat1,mat2)\n",
        "print(\"The product of two matrix \\n\\n{}  and \\n\\n{}  is \\n\\n{} \".format(mat1,mat2,mulMat))"
      ],
      "metadata": {
        "colab": {
          "base_uri": "https://localhost:8080/"
        },
        "id": "G0Wq_UQmEQ_K",
        "outputId": "22e46f48-a045-4962-c074-8b40bfde4ca4"
      },
      "execution_count": 2,
      "outputs": [
        {
          "output_type": "stream",
          "name": "stdout",
          "text": [
            "The product of two matrix \n",
            "\n",
            "[[13 42 64]\n",
            " [ 3  7  4]\n",
            " [ 9  1  2]]  and \n",
            "\n",
            "[[ 2  4  7]\n",
            " [55 67  8]\n",
            " [ 8  9  1]]  is \n",
            "\n",
            "[[2848 3442  491]\n",
            " [ 423  517   81]\n",
            " [  89  121   73]] \n"
          ]
        }
      ]
    },
    {
      "cell_type": "markdown",
      "source": [
        "3. Write a Python Program to Transpose a Matrix?"
      ],
      "metadata": {
        "id": "kTIldEFtEHHg"
      }
    },
    {
      "cell_type": "code",
      "source": [
        "def Matrix(n,v=0):\n",
        "    M=[]             \n",
        "    for i in range(n):\n",
        "        \n",
        "        row =[]\n",
        "        for j in range(n):\n",
        "            row.append(v)\n",
        "        M.append(row)\n",
        "    return(M)\n",
        "\n",
        "def crMatrix(n):\n",
        "    \n",
        "    M=[]             \n",
        "    print(\"Enter the element :\")\n",
        "    for i in range(n):\n",
        "        #stor row\n",
        "        row =[]\n",
        "        for j in range(n):\n",
        "            row.append(int(input()))\n",
        "        M.append(row)\n",
        "    return(M)\n",
        "\n",
        "def prMatrix(M,n):\n",
        "    for i in range(n):\n",
        "        for j in range(n):\n",
        "            print(M[i][j], end=\" \")\n",
        "        print() \n",
        "\n",
        "def tpMatrix(M,n,result):\n",
        "    for i in range(n):\n",
        "       for j in range(n):\n",
        "            result[i][j]= M[j][i]\n",
        "    return result\n",
        "\n",
        "n=int(input(\"Enter N for N x N matrix: \"))       \n",
        "M1 = crMatrix(n)\n",
        "\n",
        "print(\"Display Array M1 In Matrix Form\")\n",
        "prMatrix(M1,n)\n",
        "\n",
        "result = Matrix(n)\n",
        "result = tpMatrix(M1,n,result)\n",
        "print(\"Transposed Matrix\")\n",
        "for r in result:\n",
        "    print(r)"
      ],
      "metadata": {
        "colab": {
          "base_uri": "https://localhost:8080/"
        },
        "id": "yHbxyMiaEXEc",
        "outputId": "10ae7479-c316-4c78-c0c4-820998ecbbb7"
      },
      "execution_count": 3,
      "outputs": [
        {
          "output_type": "stream",
          "name": "stdout",
          "text": [
            "Enter N for N x N matrix: 5\n",
            "Enter the element :\n",
            "1\n",
            "2\n",
            "3\n",
            "4\n",
            "5\n",
            "6\n",
            "7\n",
            "8\n",
            "9\n",
            "11\n",
            "32\n",
            "44\n",
            "65\n",
            "675\n",
            "56\n",
            "67\n",
            "78\n",
            "89\n",
            "98\n",
            "90\n",
            "43\n",
            "32\n",
            "45\n",
            "65\n",
            "76\n",
            "Display Array M1 In Matrix Form\n",
            "1 2 3 4 5 \n",
            "6 7 8 9 11 \n",
            "32 44 65 675 56 \n",
            "67 78 89 98 90 \n",
            "43 32 45 65 76 \n",
            "Transposed Matrix\n",
            "[1, 6, 32, 67, 43]\n",
            "[2, 7, 44, 78, 32]\n",
            "[3, 8, 65, 89, 45]\n",
            "[4, 9, 675, 98, 65]\n",
            "[5, 11, 56, 90, 76]\n"
          ]
        }
      ]
    },
    {
      "cell_type": "markdown",
      "source": [
        "4. Write a Python Program to Sort Words in Alphabetic Order?"
      ],
      "metadata": {
        "id": "PVHX4u5yEJN8"
      }
    },
    {
      "cell_type": "code",
      "source": [
        "Arr = input(\"Enter string\")\n",
        "\n",
        "words = Arr.split()\n",
        "words.sort()\n",
        "for word in words:\n",
        "    print(word)"
      ],
      "metadata": {
        "colab": {
          "base_uri": "https://localhost:8080/"
        },
        "id": "ZCGKmR4BFCc9",
        "outputId": "e4d66fe8-d3e2-4036-81e0-1bb1bc5a9d96"
      },
      "execution_count": 4,
      "outputs": [
        {
          "output_type": "stream",
          "name": "stdout",
          "text": [
            "Enter stringPython Programming\n",
            "Programming\n",
            "Python\n"
          ]
        }
      ]
    },
    {
      "cell_type": "markdown",
      "source": [
        "5. Write a Python Program to Remove Punctuation From a String?"
      ],
      "metadata": {
        "id": "vKqplIz1ELla"
      }
    },
    {
      "cell_type": "code",
      "execution_count": 5,
      "metadata": {
        "colab": {
          "base_uri": "https://localhost:8080/"
        },
        "id": "YtCZUu2UH4Ou",
        "outputId": "7a66a240-ee5b-4af9-90b2-4143a81eb617"
      },
      "outputs": [
        {
          "output_type": "stream",
          "name": "stdout",
          "text": [
            "Enter a string with punctuationsi am  !()-[]{};:'\"\\,<>./?Ayesha @#$%^&*_\n",
            "i am  Ayesha \n"
          ]
        }
      ],
      "source": [
        "punctuations = '''!()-[]{};:'\"\\,<>./?@#$%^&*_~'''\n",
        "\n",
        "Arr = input(\"Enter a string with punctuations\")\n",
        "\n",
        "\n",
        "rem_punc = \"\"\n",
        "for i in Arr:\n",
        "    if i not in punctuations:\n",
        "        rem_punc = rem_punc + i\n",
        "\n",
        "# display \n",
        "print(rem_punc)"
      ]
    }
  ]
}