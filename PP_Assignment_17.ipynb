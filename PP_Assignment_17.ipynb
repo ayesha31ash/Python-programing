{
  "nbformat": 4,
  "nbformat_minor": 0,
  "metadata": {
    "colab": {
      "provenance": [],
      "collapsed_sections": []
    },
    "kernelspec": {
      "name": "python3",
      "display_name": "Python 3"
    },
    "language_info": {
      "name": "python"
    }
  },
  "cells": [
    {
      "cell_type": "markdown",
      "source": [
        "Question1. \n",
        "```\n",
        "Create a function that takes three arguments a, b, c and returns the sum of the\n",
        "numbers that are evenly divided by c from the range a, b inclusive.\n",
        "Examples\n",
        "evenly_divisible(1, 10, 20) ➞ 0\n",
        "# No number between 1 and 10 can be evenly divided by 20.\n",
        "evenly_divisible(1, 10, 2) ➞ 30\n",
        "# 2 + 4 + 6 + 8 + 10 = 30\n",
        "evenly_divisible(1, 10, 3) ➞ 18\n",
        "# 3 + 6 + 9 = 18\n",
        "```"
      ],
      "metadata": {
        "id": "LNtzHOeJsGNA"
      }
    },
    {
      "cell_type": "code",
      "source": [
        "def evenDivisible(a,b,c):\n",
        "    divList = []\n",
        "    for num in range(a,b+1):\n",
        "        if num%c == 0:\n",
        "            divList.append(num)\n",
        "    print(f'{a,b,c} ➞ {sum(divList)}')\n",
        "\n",
        "evenDivisible(1,10,20)\n",
        "evenDivisible(1,10,2)\n",
        "evenDivisible(1,10,3)"
      ],
      "metadata": {
        "colab": {
          "base_uri": "https://localhost:8080/"
        },
        "id": "2-Tg362xtCkV",
        "outputId": "76ef5bc5-ae69-45b3-f885-e72b0242676a"
      },
      "execution_count": 1,
      "outputs": [
        {
          "output_type": "stream",
          "name": "stdout",
          "text": [
            "(1, 10, 20) ➞ 0\n",
            "(1, 10, 2) ➞ 30\n",
            "(1, 10, 3) ➞ 18\n"
          ]
        }
      ]
    },
    {
      "cell_type": "markdown",
      "source": [
        "Question2. \n",
        "\n",
        "Create a function that returns True if a given inequality expression is correct and\n",
        "False otherwise.\n",
        "\n",
        "Examples\n",
        "\n",
        "correct_signs(&quot;3 &lt; 7 &lt; 11&quot;) ➞ True\n",
        "\n",
        "correct_signs(&quot;13 &gt; 44 &gt; 33 &gt; 1&quot;) ➞ False\n",
        "\n",
        "correct_signs(&quot;1 &lt; 2 &lt; 6 &lt; 9 &gt; 3&quot;) ➞ True"
      ],
      "metadata": {
        "id": "YVP59ku_tKAs"
      }
    },
    {
      "cell_type": "code",
      "execution_count": 2,
      "metadata": {
        "colab": {
          "base_uri": "https://localhost:8080/"
        },
        "id": "5-l_4tEcpmJs",
        "outputId": "052f0b68-b233-4c14-bef2-23f08711fbf6"
      },
      "outputs": [
        {
          "output_type": "stream",
          "name": "stdout",
          "text": [
            "Enter the inequality: 3 < 7 < 11\n",
            "3 < 7 < 11 ➞ True\n",
            "Enter the inequality: 13 > 44 > 33 > 1\n",
            "13 > 44 > 33 > 1 ➞ False\n",
            "Enter the inequality: 1 < 2 < 6 < 9 > 3\n",
            "1 < 2 < 6 < 9 > 3 ➞ True\n"
          ]
        }
      ],
      "source": [
        "def checkEquality():\n",
        "    in_string = input('Enter the inequality: ')\n",
        "    out_bool = eval(in_string)\n",
        "    print(f'{in_string} ➞ {out_bool}')\n",
        "\n",
        "for x in range(3):\n",
        "    checkEquality()"
      ]
    },
    {
      "cell_type": "markdown",
      "source": [
        "Question3.\n",
        "\n",
        "Create a function that replaces all the vowels in a string with a specified character.\n",
        "Examples\n",
        "\n",
        "replace_vowels(&quot;the aardvark&quot;, &quot;#&quot;) ➞ &quot;th# ##rdv#rk&quot;\n",
        "\n",
        "replace_vowels(&quot;minnie mouse&quot;, &quot;?&quot;) ➞ &quot;m?nn?? m??s?&quot;\n",
        "\n",
        "replace_vowels(&quot;shakespeare&quot;, &quot;*&quot;) ➞ &quot;sh*k*sp**r*&quot;"
      ],
      "metadata": {
        "id": "CyY1WTmftcT3"
      }
    },
    {
      "cell_type": "code",
      "source": [
        "def replaceVowels():\n",
        "    vowels = ['a','e','i','o','u','A','E','I','O','U']\n",
        "    in_string = input(\"String: \")\n",
        "    in_string_copy = in_string\n",
        "    in_char = input('Replacement character: ')\n",
        "    for ele in in_string:\n",
        "        if ele in vowels:\n",
        "            in_string = in_string.replace(ele,in_char)\n",
        "    print(f'{in_string_copy} {in_char} ➞ {in_string}')\n",
        "            \n",
        "for x in range(3):\n",
        "    replaceVowels()"
      ],
      "metadata": {
        "colab": {
          "base_uri": "https://localhost:8080/"
        },
        "id": "FgnJpD60trNp",
        "outputId": "3a43fb0b-8d3e-4c0c-a2e2-326de7ca3c77"
      },
      "execution_count": 3,
      "outputs": [
        {
          "output_type": "stream",
          "name": "stdout",
          "text": [
            "String: the aardvark\n",
            "Replacement character: #\n",
            "the aardvark # ➞ th# ##rdv#rk\n",
            "String: minnie mouse\n",
            "Replacement character: ?\n",
            "minnie mouse ? ➞ m?nn?? m??s?\n",
            "String: shakespeare\n",
            "Replacement character: ,\n",
            "shakespeare , ➞ sh,k,sp,,r,\n"
          ]
        }
      ]
    },
    {
      "cell_type": "markdown",
      "source": [
        "Question4. \n",
        "\n",
        "Write a function that calculates the factorial of a number recursively.\n",
        "\n",
        "Examples\n",
        "\n",
        "factorial(5) ➞ 120\n",
        "\n",
        "factorial(3) ➞ 6\n",
        "\n",
        "factorial(1) ➞ 1\n",
        "\n",
        "factorial(0) ➞ 1"
      ],
      "metadata": {
        "id": "H7YEGCNot9CF"
      }
    },
    {
      "cell_type": "code",
      "source": [
        "def factorial(n):\n",
        "    if n==0:\n",
        "        return 1\n",
        "    return n * factorial(n-1)\n",
        "\n",
        "print(f'factorial(5) ➞ {factorial(5)}')\n",
        "print(f'factorial(3) ➞ {factorial(3)}')\n",
        "print(f'factorial(1) ➞ {factorial(1)}')\n",
        "print(f'factorial(0) ➞ {factorial(0)}')"
      ],
      "metadata": {
        "colab": {
          "base_uri": "https://localhost:8080/"
        },
        "id": "fFpY2SiguDnS",
        "outputId": "195a7277-3d13-4aae-e537-d0bb35dc24ca"
      },
      "execution_count": 4,
      "outputs": [
        {
          "output_type": "stream",
          "name": "stdout",
          "text": [
            "factorial(5) ➞ 120\n",
            "factorial(3) ➞ 6\n",
            "factorial(1) ➞ 1\n",
            "factorial(0) ➞ 1\n"
          ]
        }
      ]
    },
    {
      "cell_type": "markdown",
      "source": [
        "Question 5\n",
        "\n",
        "Hamming distance is the number of characters that differ between two strings.\n",
        "To illustrate:\n",
        "String1: &quot;abcbba&quot;\n",
        "String2: &quot;abcbda&quot;\n",
        "Hamming Distance: 1 - &quot;b&quot; vs. &quot;d&quot; is the only difference.\n",
        "\n",
        "Create a function that computes the hamming distance between two strings.\n",
        "\n",
        "Examples\n",
        "\n",
        "\n",
        "hamming_distance(&quot;abcde&quot;, &quot;bcdef&quot;) ➞ 5\n",
        "\n",
        "hamming_distance(&quot;abcde&quot;, &quot;abcde&quot;) ➞ 0\n",
        "\n",
        "hamming_distance(&quot;strong&quot;, &quot;strung&quot;) ➞ 1"
      ],
      "metadata": {
        "id": "7tJV1AKluJnT"
      }
    },
    {
      "cell_type": "code",
      "source": [
        "def genHamDistance():\n",
        "    in_string_1 = input('Enter the String_1: ')\n",
        "    in_string_2 = input('Enter the String_2: ')\n",
        "    if len(in_string_1) == len(in_string_2):\n",
        "        count = 0\n",
        "        for i in range(len(in_string_1)):\n",
        "            if in_string_1[i] != in_string_2[i]:\n",
        "                count = count+1\n",
        "        print(f'Hamning Distance b/w {in_string_1} and {in_string_2} ➞ {count}')\n",
        "    else:\n",
        "        print('Both Strings Must be of Same Length')\n",
        "\n",
        "for x in range(3):\n",
        "    genHamDistance()"
      ],
      "metadata": {
        "colab": {
          "base_uri": "https://localhost:8080/"
        },
        "id": "o5lwUnvduRV2",
        "outputId": "fff2ce50-3ae2-4f39-e126-d07dd580c8a8"
      },
      "execution_count": 5,
      "outputs": [
        {
          "output_type": "stream",
          "name": "stdout",
          "text": [
            "Enter the String_1: abcde\n",
            "Enter the String_2: bcdef\n",
            "Hamning Distance b/w abcde and bcdef ➞ 5\n",
            "Enter the String_1: abcde\n",
            "Enter the String_2: abcde\n",
            "Hamning Distance b/w abcde and abcde ➞ 0\n",
            "Enter the String_1: strong\n",
            "Enter the String_2: strung\n",
            "Hamning Distance b/w strong and strung ➞ 1\n"
          ]
        }
      ]
    }
  ]
}