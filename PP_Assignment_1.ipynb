{
  "nbformat": 4,
  "nbformat_minor": 0,
  "metadata": {
    "colab": {
      "provenance": []
    },
    "kernelspec": {
      "name": "python3",
      "display_name": "Python 3"
    },
    "language_info": {
      "name": "python"
    }
  },
  "cells": [
    {
      "cell_type": "markdown",
      "source": [
        "1. Write a Python program to print &quot;Hello Python&quot;?"
      ],
      "metadata": {
        "id": "TiNgAgahlR5x"
      }
    },
    {
      "cell_type": "code",
      "source": [
        "print(\"Hello Python\")"
      ],
      "metadata": {
        "colab": {
          "base_uri": "https://localhost:8080/"
        },
        "id": "VxFTw6TGltnK",
        "outputId": "9622b245-d29f-40e7-b5a2-75d1daaa0023"
      },
      "execution_count": 1,
      "outputs": [
        {
          "output_type": "stream",
          "name": "stdout",
          "text": [
            "Hello Python\n"
          ]
        }
      ]
    },
    {
      "cell_type": "markdown",
      "source": [
        "2. Write a Python program to do arithmetical operations addition and division.?"
      ],
      "metadata": {
        "id": "HdI4_pILlUkP"
      }
    },
    {
      "cell_type": "code",
      "source": [
        "def add(a,b):\n",
        "    return a+b\n",
        "\n",
        "def divide(a,b):\n",
        "    return a/b"
      ],
      "metadata": {
        "id": "jv94Jvx5lxZu"
      },
      "execution_count": 2,
      "outputs": []
    },
    {
      "cell_type": "code",
      "source": [
        "add(3,5)"
      ],
      "metadata": {
        "colab": {
          "base_uri": "https://localhost:8080/"
        },
        "id": "DgtXNhYel1ej",
        "outputId": "7e224668-bf89-41ca-ca1a-ac2009bb8f0b"
      },
      "execution_count": 3,
      "outputs": [
        {
          "output_type": "execute_result",
          "data": {
            "text/plain": [
              "8"
            ]
          },
          "metadata": {},
          "execution_count": 3
        }
      ]
    },
    {
      "cell_type": "code",
      "source": [
        "divide(4,5)"
      ],
      "metadata": {
        "colab": {
          "base_uri": "https://localhost:8080/"
        },
        "id": "SdrtB_prl4bp",
        "outputId": "df53916f-861f-4c68-e03d-4a07e98da88e"
      },
      "execution_count": 4,
      "outputs": [
        {
          "output_type": "execute_result",
          "data": {
            "text/plain": [
              "0.8"
            ]
          },
          "metadata": {},
          "execution_count": 4
        }
      ]
    },
    {
      "cell_type": "markdown",
      "source": [
        "3. Write a Python program to find the area of a triangle?"
      ],
      "metadata": {
        "id": "0AtNhrgAlWvc"
      }
    },
    {
      "cell_type": "code",
      "source": [
        "base = int(input(\"Enter the base of Triangle =\"))\n",
        "Height = int(input(\"Enter the height of Triangle = \"))\n",
        "Area = (Height*base)/2\n",
        "print(\"The Area of Triangle of Base {} , Height {} is {}\".format(base , Height , Area))"
      ],
      "metadata": {
        "colab": {
          "base_uri": "https://localhost:8080/"
        },
        "id": "sOVYgwJRlzHu",
        "outputId": "38ff94e8-fbcb-4e9d-90ea-7f6a48e4fa50"
      },
      "execution_count": 5,
      "outputs": [
        {
          "output_type": "stream",
          "name": "stdout",
          "text": [
            "Enter the base of Triangle =5\n",
            "Enter the height of Triangle = 9\n",
            "The Area of Triangle of Base 5 , Height 9 is 22.5\n"
          ]
        }
      ]
    },
    {
      "cell_type": "markdown",
      "source": [
        "4. Write a Python program to swap two variables?"
      ],
      "metadata": {
        "id": "qk_92JHxlY6A"
      }
    },
    {
      "cell_type": "code",
      "source": [
        "first_variable = int(input(\"First Variable =\"))\n",
        "second_variable = int(input(\"Second Variable =\"))\n",
        "print(\"First Variable Before swap  : {} \\n Second variable Before Swap  : {}\".format(first_variable,second_variable))\n",
        "first_variable , second_variable = second_variable , first_variable\n",
        "\n",
        "print(\"After Swap : \\n First Variabe : {} \\n  Second Variable : {}\".format(first_variable , second_variable))"
      ],
      "metadata": {
        "colab": {
          "base_uri": "https://localhost:8080/"
        },
        "id": "IBIXoatemAky",
        "outputId": "baa0a1c1-a5ba-4789-a79b-89f78aa83635"
      },
      "execution_count": 6,
      "outputs": [
        {
          "output_type": "stream",
          "name": "stdout",
          "text": [
            "First Variable =3\n",
            "Second Variable =8\n",
            "First Variable Before swap  : 3 \n",
            " Second variable Before Swap  : 8\n",
            "After Swap : \n",
            " First Variabe : 8 \n",
            "  Second Variable : 3\n"
          ]
        }
      ]
    },
    {
      "cell_type": "markdown",
      "source": [
        "5. Write a Python program to generate a random number?"
      ],
      "metadata": {
        "id": "-bwMoRN7la6k"
      }
    },
    {
      "cell_type": "code",
      "execution_count": 7,
      "metadata": {
        "colab": {
          "base_uri": "https://localhost:8080/"
        },
        "id": "ok4oNU5IkwOn",
        "outputId": "219d8e25-fa66-440a-f14a-f5fe36ff7021"
      },
      "outputs": [
        {
          "output_type": "stream",
          "name": "stdout",
          "text": [
            "3\n"
          ]
        }
      ],
      "source": [
        "import random\n",
        "print(random.randint(0,6))"
      ]
    }
  ]
}