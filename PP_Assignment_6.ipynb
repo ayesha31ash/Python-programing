{
  "nbformat": 4,
  "nbformat_minor": 0,
  "metadata": {
    "colab": {
      "provenance": [],
      "collapsed_sections": []
    },
    "kernelspec": {
      "name": "python3",
      "display_name": "Python 3"
    },
    "language_info": {
      "name": "python"
    }
  },
  "cells": [
    {
      "cell_type": "markdown",
      "source": [
        "1. Write a Python Program to Display Fibonacci Sequence Using Recursion?"
      ],
      "metadata": {
        "id": "QP2NDpTQwWAq"
      }
    },
    {
      "cell_type": "code",
      "execution_count": 1,
      "metadata": {
        "id": "OBXPRTFwwQ2Y",
        "colab": {
          "base_uri": "https://localhost:8080/"
        },
        "outputId": "eb06b89b-7684-4bb5-dc4f-2d9cf0c6341d"
      },
      "outputs": [
        {
          "output_type": "stream",
          "name": "stdout",
          "text": [
            "input no : 4\n",
            "0 1 1 2 "
          ]
        }
      ],
      "source": [
        "def recurfib(n):\n",
        "    if n<=1:\n",
        "        return n\n",
        "    else:\n",
        "        return recurfib(n-1) + recurfib(n-2)\n",
        "\n",
        "num = int(input(\"input no : \"))\n",
        "\n",
        "if num <=0:\n",
        "    print(\"Please provide positive no.\")\n",
        "\n",
        "else:\n",
        "    for i in range(num):\n",
        "        print(recurfib(i) , end=\" \")\n",
        "       "
      ]
    },
    {
      "cell_type": "markdown",
      "source": [
        "2. Write a Python Program to Find Factorial of Number Using Recursion?"
      ],
      "metadata": {
        "id": "thULfePCwTd_"
      }
    },
    {
      "cell_type": "code",
      "source": [
        "def fact(n):\n",
        "    if n==0:\n",
        "        return 1\n",
        "    else:\n",
        "        return n * fact(n-1)\n",
        "\n",
        "num = int(input(\"input a no : \"))\n",
        "\n",
        "if num<0:\n",
        "    print(\"Enter positive no.\")\n",
        "else:\n",
        "    \n",
        "        print(fact(num))\n"
      ],
      "metadata": {
        "colab": {
          "base_uri": "https://localhost:8080/"
        },
        "id": "RBC-DJkJOw42",
        "outputId": "bf2aaffb-535f-4116-96ff-82b2c9300a3f"
      },
      "execution_count": 2,
      "outputs": [
        {
          "output_type": "stream",
          "name": "stdout",
          "text": [
            "input a no : 4\n",
            "24\n"
          ]
        }
      ]
    },
    {
      "cell_type": "markdown",
      "source": [
        "3. Write a Python Program to calculate your Body Mass Index?"
      ],
      "metadata": {
        "id": "VpBNNOr4wZK9"
      }
    },
    {
      "cell_type": "code",
      "source": [
        "# BMI = weight / Height * height\n",
        "\n",
        "h = float(input(\"enter your height in feet : \"))\n",
        "w = float(input(\"enter your weight in kilo : \"))\n",
        "\n",
        "bmi = w/(h**2)\n",
        "\n",
        "print(\"The BIM is = \",bmi)"
      ],
      "metadata": {
        "colab": {
          "base_uri": "https://localhost:8080/"
        },
        "id": "4UUjb_7rO7lH",
        "outputId": "07b7dbd6-2262-4329-ed55-5f35648fc51b"
      },
      "execution_count": 3,
      "outputs": [
        {
          "output_type": "stream",
          "name": "stdout",
          "text": [
            "enter your height in feet : 6.7\n",
            "enter your weight in kilo : 69\n",
            "The BIM is =  1.537090666072622\n"
          ]
        }
      ]
    },
    {
      "cell_type": "markdown",
      "source": [
        "4. Write a Python Program to calculate the natural logarithm of any number?"
      ],
      "metadata": {
        "id": "TkQKc__3wgRR"
      }
    },
    {
      "cell_type": "code",
      "source": [
        "import math\n",
        "x = int(input((\"Enter a number : \")))\n",
        "log = math.log(x)\n",
        "print(\"Log of {} is {}\".format(x, log))"
      ],
      "metadata": {
        "colab": {
          "base_uri": "https://localhost:8080/"
        },
        "id": "mvzDc7HlPAk1",
        "outputId": "ceeffb22-9e16-4636-f362-4de955dda31f"
      },
      "execution_count": 4,
      "outputs": [
        {
          "output_type": "stream",
          "name": "stdout",
          "text": [
            "Enter a number : 87\n",
            "Log of 87 is 4.465908118654584\n"
          ]
        }
      ]
    },
    {
      "cell_type": "markdown",
      "source": [
        "5. Write a Python Program for cube sum of first n natural numbers?"
      ],
      "metadata": {
        "id": "BS-4WSvfwiwh"
      }
    },
    {
      "cell_type": "code",
      "source": [
        "num = int(input(\"Enter a no :\"))\n",
        "sum = 0\n",
        "for i in range(1 , num+1):\n",
        "    sum = sum + i**3\n",
        "print(\"Cube sum of {} natural numbers is {}\".format(num,sum))  "
      ],
      "metadata": {
        "colab": {
          "base_uri": "https://localhost:8080/"
        },
        "id": "MaILOL4fPHTg",
        "outputId": "0a39c963-c226-4f6a-fe32-d8648fedeac5"
      },
      "execution_count": 5,
      "outputs": [
        {
          "output_type": "stream",
          "name": "stdout",
          "text": [
            "Enter a no :3\n",
            "Cube sum of 3 natural numbers is 36\n"
          ]
        }
      ]
    },
    {
      "cell_type": "code",
      "source": [],
      "metadata": {
        "id": "bvYm5kj-PH6V"
      },
      "execution_count": null,
      "outputs": []
    }
  ]
}