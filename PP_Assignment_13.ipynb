{
  "nbformat": 4,
  "nbformat_minor": 0,
  "metadata": {
    "colab": {
      "provenance": [],
      "collapsed_sections": []
    },
    "kernelspec": {
      "name": "python3",
      "display_name": "Python 3"
    },
    "language_info": {
      "name": "python"
    }
  },
  "cells": [
    {
      "cell_type": "markdown",
      "source": [
        "Question 1:\n",
        "\n",
        "Write a program that calculates and prints the value according to the given formula:\n",
        "\n",
        "Q = Square root of [(2 * C * D)/H]\n",
        "\n",
        "Following are the fixed values of C and H:\n",
        "\n",
        "C is 50. H is 30.\n",
        "\n",
        "D is the variable whose values should be input to your program in a  comma-separated sequence.\n",
        "\n",
        "Example\n",
        "\n",
        "Let us assume the following comma separated input sequence is given to the program:\n",
        "\n",
        "100,150,180\n",
        "\n",
        "The output of the program should be:\n",
        "        \n",
        "18,22,24"
      ],
      "metadata": {
        "id": "uFlRxxcGkSck"
      }
    },
    {
      "cell_type": "code",
      "source": [
        "import math\n",
        "\n",
        "values = input(\"Provide D in with comma separated: \")\n",
        "values = values.split(',')\n",
        "\n",
        "final = []\n",
        "\n",
        "for D in values:\n",
        "    A = round(math.sqrt(2 * 50 * int(D) / 30))\n",
        "    final.append(str(A))\n",
        "    \n",
        "print(','.join(final))"
      ],
      "metadata": {
        "colab": {
          "base_uri": "https://localhost:8080/"
        },
        "id": "yHdbkw2BrC5-",
        "outputId": "7b3cbf6f-7d7b-4844-f3ff-3dc37ba81035"
      },
      "execution_count": 4,
      "outputs": [
        {
          "output_type": "stream",
          "name": "stdout",
          "text": [
            "Provide D in with comma separated: 100,150,180\n",
            "18,22,24\n"
          ]
        }
      ]
    },
    {
      "cell_type": "markdown",
      "source": [
        "Question 2:\n",
        "\n",
        "Write a program which takes 2 digits, X,Y as input and generates a 2-dimensional array. \n",
        "\n",
        "The element value in the i-th row and j-th column of the array should be i*j.\n",
        "\n",
        "Note: i=0,1.., X-1; j=0,1,¡Y-1.\n",
        "\n",
        "Example\n",
        "\n",
        "Suppose the following inputs are given to the program:\n",
        "\n",
        "3,5\n",
        "\n",
        "Then, the output of the program should be:\n",
        "\n",
        "[[0, 0, 0, 0, 0], [0, 1, 2, 3, 4], [0, 2, 4, 6, 8]]"
      ],
      "metadata": {
        "id": "pwGw0JtnkTuG"
      }
    },
    {
      "cell_type": "code",
      "source": [
        "def ABC(n,m):\n",
        "    \n",
        "    A=[]             \n",
        "    print(\"Enter the element :\")\n",
        "    for i in range(n):\n",
        "        #store row\n",
        "        row =[]\n",
        "        for j in range(m):\n",
        "            row.append(i*j)\n",
        "        A.append(row)\n",
        "    return(A)\n",
        "\n",
        "x = int(input(\"Enter x : \"))\n",
        "y = int(input(\"enter y : \"))\n",
        "ABC(x,y)"
      ],
      "metadata": {
        "colab": {
          "base_uri": "https://localhost:8080/"
        },
        "id": "WbmNMbZorF54",
        "outputId": "b548c62a-5f1f-4b64-c202-45d8a6a0136a"
      },
      "execution_count": 5,
      "outputs": [
        {
          "output_type": "stream",
          "name": "stdout",
          "text": [
            "Enter x : 4\n",
            "enter y : 7\n",
            "Enter the element :\n"
          ]
        },
        {
          "output_type": "execute_result",
          "data": {
            "text/plain": [
              "[[0, 0, 0, 0, 0, 0, 0],\n",
              " [0, 1, 2, 3, 4, 5, 6],\n",
              " [0, 2, 4, 6, 8, 10, 12],\n",
              " [0, 3, 6, 9, 12, 15, 18]]"
            ]
          },
          "metadata": {},
          "execution_count": 5
        }
      ]
    },
    {
      "cell_type": "markdown",
      "source": [
        "Question 3:\n",
        "\n",
        "Write a program that accepts a comma separated sequence of words as input and prints the\n",
        "words in a comma-separated sequence after sorting them alphabetically.\n",
        "\n",
        "Suppose the following input is supplied to the program:\n",
        "\n",
        "without,hello,bag,world\n",
        "\n",
        "Then, the output should be:\n",
        "\n",
        "bag,hello,without,world"
      ],
      "metadata": {
        "id": "NxUJbM-LkXKa"
      }
    },
    {
      "cell_type": "code",
      "source": [
        "words=[x for x in input('Enter comma seperated words ').split(',')]\n",
        "words.sort()    \n",
        "print(','.join(words))\n"
      ],
      "metadata": {
        "colab": {
          "base_uri": "https://localhost:8080/"
        },
        "id": "AjPzwuhQrl52",
        "outputId": "f107360c-4fdb-41f0-c0dc-eb4ace7d8c9a"
      },
      "execution_count": 7,
      "outputs": [
        {
          "output_type": "stream",
          "name": "stdout",
          "text": [
            "Enter comma seperated words without,hello,bag,world\n",
            "bag,hello,without,world\n"
          ]
        }
      ]
    },
    {
      "cell_type": "markdown",
      "source": [
        "Question 4:\n",
        "\n",
        "Write a program that accepts a sequence of whitespace separated words as input and prints\n",
        "\n",
        "the words after removing all duplicate words and sorting them alphanumerically.\n",
        "\n",
        "Suppose the following input is supplied to the program:\n",
        "\n",
        "hello world and practice makes perfect and hello world again\n",
        "Then, the output should be:\n",
        "\n",
        " again and hello makes perfect practice world"
      ],
      "metadata": {
        "id": "JDGEWBUeqRJD"
      }
    },
    {
      "cell_type": "code",
      "execution_count": 8,
      "metadata": {
        "colab": {
          "base_uri": "https://localhost:8080/"
        },
        "id": "bGQM1JMLWZof",
        "outputId": "a0a78a79-dc13-436f-d47d-55b4540058a2"
      },
      "outputs": [
        {
          "output_type": "stream",
          "name": "stdout",
          "text": [
            "Enter space sepeated words hello world and practice makes perfect and hello world again\n",
            "again and hello makes perfect practice world\n"
          ]
        }
      ],
      "source": [
        "words=[x for x in input('Enter space sepeated words ').split(' ')]\n",
        "print(' '.join(sorted(list(set(words)))))"
      ]
    },
    {
      "cell_type": "markdown",
      "source": [
        "Question 5:\n",
        "\n",
        "Write a program that accepts a sentence and calculate the number of \n",
        "letters and digits.\n",
        "\n",
        "Suppose the following input is supplied to the program:\n",
        "\n",
        "hello world! 123\n",
        "\n",
        "Then, the output should be:\n",
        "\n",
        "LETTERS 10\n",
        "\n",
        "DIGITS 3"
      ],
      "metadata": {
        "id": "VxMK9PwEsN6I"
      }
    },
    {
      "cell_type": "code",
      "source": [
        "a = input(\"Input a string : \")\n",
        "digits=letters=0\n",
        "for i in a:\n",
        "    if i.isdigit():\n",
        "        digits += 1\n",
        "    elif i.isalpha():\n",
        "        letters += 1\n",
        "    else:\n",
        "        pass\n",
        "print(\"Letters\", letters)\n",
        "print(\"Digits\", digits)"
      ],
      "metadata": {
        "colab": {
          "base_uri": "https://localhost:8080/"
        },
        "id": "xWOGrDnxsTg3",
        "outputId": "ba4aeb8d-f00e-4283-dd5e-435b644da84d"
      },
      "execution_count": 9,
      "outputs": [
        {
          "output_type": "stream",
          "name": "stdout",
          "text": [
            "Input a string : hello world! 123\n",
            "Letters 10\n",
            "Digits 3\n"
          ]
        }
      ]
    },
    {
      "cell_type": "markdown",
      "source": [
        "Question 6:\n",
        "A website requires the users to input username and password to register. \n",
        "\n",
        "Write a program to\n",
        "\n",
        "check the validity of password input by users.\n",
        "\n",
        "Following are the criteria for checking the password:\n",
        "1. At least 1 letter between [a-z]\n",
        "2. At least 1 number between [0-9]\n",
        "1. At least 1 letter between [A-Z]\n",
        "3. At least 1 character from [$#@]\n",
        "4. Minimum length of transaction password: 6\n",
        "5. Maximum length of transaction password: 12\n",
        "\n",
        "Your program should accept a sequence of comma separated passwords and will check them\n",
        "according to the above criteria. Passwords that match the criteria are to be printed, each\n",
        "separated by a comma.\n",
        "\n",
        "Example\n",
        "\n",
        "If the following passwords are given as input to the program:\n",
        "\n",
        "ABd1234@1,a F1#,2w3E*,2We3345\n",
        "\n",
        "Then, the output of the program should be:\n",
        "\n",
        "ABd1234@1"
      ],
      "metadata": {
        "id": "2EXkp8mQsZbL"
      }
    },
    {
      "cell_type": "code",
      "source": [
        "def checkPassword():\n",
        "    in_string = input(\"Enter the Input String: \")\n",
        "    small_list = \"abcdefghijklmnopqrstuvwxyz\"\n",
        "    cap_list = \"ABCDEFGHIJKLMNOPQRSTUVWXYZ\"\n",
        "    num_list = \"0123456789\"\n",
        "    special_list = \"$#@\"\n",
        "    for ele in in_string.split(\",\"):\n",
        "        if len(ele) <= 12 and len(ele) >=6 :\n",
        "            if any(i.isupper() for i in ele):\n",
        "                if any(i.islower() for i in ele):\n",
        "                    if any(i for i in ele if i in special_list):\n",
        "                        print(ele)\n",
        "                               \n",
        "checkPassword() "
      ],
      "metadata": {
        "colab": {
          "base_uri": "https://localhost:8080/"
        },
        "id": "2NPSEtHjszXU",
        "outputId": "420aaf24-dca1-4351-97ac-0785c0170b86"
      },
      "execution_count": 12,
      "outputs": [
        {
          "output_type": "stream",
          "name": "stdout",
          "text": [
            "Enter the Input String: ABd1234@1,a F1#,2w3E*,2We3345\n",
            "ABd1234@1\n"
          ]
        }
      ]
    }
  ]
}