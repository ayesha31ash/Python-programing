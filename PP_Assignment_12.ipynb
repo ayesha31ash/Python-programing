{
  "nbformat": 4,
  "nbformat_minor": 0,
  "metadata": {
    "colab": {
      "provenance": [],
      "collapsed_sections": []
    },
    "kernelspec": {
      "name": "python3",
      "display_name": "Python 3"
    },
    "language_info": {
      "name": "python"
    }
  },
  "cells": [
    {
      "cell_type": "markdown",
      "source": [
        "1. Write a Python program to Extract Unique values dictionary values?"
      ],
      "metadata": {
        "id": "hviB2moOUxLe"
      }
    },
    {
      "cell_type": "code",
      "source": [
        "dict1 = {'a' : [3, 64, 17, 66],\n",
        "             'b' : [1, 21, 47, 45],\n",
        "             'c' : [0, 17, 7, 81],\n",
        "             'd' : [3, 3, 4,8]}\n",
        "\n",
        "un_val = set([ele for val in dict1.values() for ele in val])\n",
        "print(\"unique values are: {}\".format(un_val))"
      ],
      "metadata": {
        "colab": {
          "base_uri": "https://localhost:8080/"
        },
        "id": "bc4hFd5JVT3z",
        "outputId": "9f4df8b0-10ad-43b6-d497-0741a91db0eb"
      },
      "execution_count": 1,
      "outputs": [
        {
          "output_type": "stream",
          "name": "stdout",
          "text": [
            "unique values are: {64, 1, 66, 3, 0, 4, 7, 8, 45, 47, 17, 81, 21}\n"
          ]
        }
      ]
    },
    {
      "cell_type": "markdown",
      "source": [
        "2. Write a Python program to find the sum of all items in a dictionary?"
      ],
      "metadata": {
        "id": "Ypt82uj9Uyi4"
      }
    },
    {
      "cell_type": "code",
      "source": [
        "dict2 = {'a' : 22,\n",
        "             'b' :  21,\n",
        "             'c' : 52,\n",
        "             'd' : 56}\n",
        "\n",
        "sum = 0\n",
        "for i in dict2.values():\n",
        "    sum +=sum + i\n",
        "print(\"Sun of all items: {}\".format(sum))"
      ],
      "metadata": {
        "colab": {
          "base_uri": "https://localhost:8080/"
        },
        "id": "80PG32poUwal",
        "outputId": "3bcb7440-a794-429c-8cf6-e5bc992e97e1"
      },
      "execution_count": 2,
      "outputs": [
        {
          "output_type": "stream",
          "name": "stdout",
          "text": [
            "Sun of all items: 420\n"
          ]
        }
      ]
    },
    {
      "cell_type": "markdown",
      "source": [
        "3. Write a Python program to Merging two Dictionaries?"
      ],
      "metadata": {
        "id": "qNsbx2QoU0t7"
      }
    },
    {
      "cell_type": "code",
      "source": [
        "one = { 'x': 2, 'y': 3}\n",
        "two = { 'y': 5, 'z': 6}\n",
        "both = one.copy()\n",
        "both.update(two)\n",
        "print(\"dict a : \", one)\n",
        "print(\"Dict b : \", two)\n",
        "print('updated dictionary : {}'.format(both))"
      ],
      "metadata": {
        "colab": {
          "base_uri": "https://localhost:8080/"
        },
        "id": "hhM1yd7HU3Gb",
        "outputId": "db0630be-5e6b-46be-d82e-1912379b71b1"
      },
      "execution_count": 3,
      "outputs": [
        {
          "output_type": "stream",
          "name": "stdout",
          "text": [
            "dict a :  {'x': 2, 'y': 3}\n",
            "Dict b :  {'y': 5, 'z': 6}\n",
            "updated dictionary : {'x': 2, 'y': 5, 'z': 6}\n"
          ]
        }
      ]
    },
    {
      "cell_type": "markdown",
      "source": [
        "4. Write a Python program to convert key-values list to flat dictionary?"
      ],
      "metadata": {
        "id": "E_C-b_ZTVKe1"
      }
    },
    {
      "cell_type": "code",
      "source": [
        "test_dict = {'month' : [1, 2, 3],\n",
        "             'name' : ['Jan', 'Feb', 'March']}\n",
        "  \n",
        "# printing original dictionary\n",
        "print(\"The original dictionary is : \" + str(test_dict))\n",
        "  \n",
        "# Convert key-values list to flat dictionary\n",
        "# Using dict() + zip()\n",
        "res = dict(zip(test_dict['month'], test_dict['name']))\n",
        "  \n",
        "# printing result \n",
        "print(\"Flattened dictionary : \" + str(res))"
      ],
      "metadata": {
        "colab": {
          "base_uri": "https://localhost:8080/"
        },
        "id": "JNhqGQXZU8zo",
        "outputId": "db12f1fc-3786-4a82-8a3b-2d02a17cb067"
      },
      "execution_count": 4,
      "outputs": [
        {
          "output_type": "stream",
          "name": "stdout",
          "text": [
            "The original dictionary is : {'month': [1, 2, 3], 'name': ['Jan', 'Feb', 'March']}\n",
            "Flattened dictionary : {1: 'Jan', 2: 'Feb', 3: 'March'}\n"
          ]
        }
      ]
    },
    {
      "cell_type": "markdown",
      "source": [
        "5. Write a Python program to insertion at the beginning in OrderedDict?"
      ],
      "metadata": {
        "id": "coWingVhVMcI"
      }
    },
    {
      "cell_type": "code",
      "execution_count": 5,
      "metadata": {
        "colab": {
          "base_uri": "https://localhost:8080/"
        },
        "id": "_9xWayaBzySt",
        "outputId": "3e379467-7262-4e38-a2b9-817a5db76be8"
      },
      "outputs": [
        {
          "output_type": "stream",
          "name": "stdout",
          "text": [
            "Ordered Dictionary  : OrderedDict([('Jan', '1'), ('Feb', '2'), ('Mar', '3')])\n"
          ]
        }
      ],
      "source": [
        "# insertion of items in beginning of ordered dict\n",
        "from collections import OrderedDict\n",
        "  \n",
        "# initialising ordered_dict\n",
        "iniordered_dict = OrderedDict([('Feb', '2'), ('Mar', '3')])\n",
        "  \n",
        "# inserting items in starting of dict \n",
        "iniordered_dict.update({'Jan':'1'})\n",
        "iniordered_dict.move_to_end('Jan', last = False)\n",
        "  \n",
        "# print result\n",
        "print (\"Ordered Dictionary  : \"+str(iniordered_dict))"
      ]
    },
    {
      "cell_type": "markdown",
      "source": [
        "6. Write a Python program to check order of character in string using OrderedDict()?"
      ],
      "metadata": {
        "id": "YrHtXbi2VOnn"
      }
    },
    {
      "cell_type": "code",
      "source": [
        "from collections import OrderedDict \n",
        "  \n",
        "def checkOrderofString(str, pattern): \n",
        "      \n",
        " # create empty OrderedDict \n",
        " dict = OrderedDict.fromkeys(str) \n",
        " print(dict)\n",
        " ptrlen = 0\n",
        " for key,value in dict.items(): \n",
        "   if (key == pattern[ptrlen]): \n",
        "            ptrlen = ptrlen + 1\n",
        "   # check if we have traverse complete pattern string \n",
        "   if (ptrlen == (len(pattern))):            \n",
        "            return 'true'\n",
        "  \n",
        "    # if we come out from for loop that means order was mismatched \n",
        " return 'false'\n",
        "  \n",
        "\n",
        "string = input(\"enter string : \")\n",
        "pattern = input(\"Enter Pattern : \")\n",
        "if checkOrderofString(string,pattern):\n",
        "    print(\"Pattern matched\")\n",
        "else:\n",
        "    print(\"Pattern not matched\")"
      ],
      "metadata": {
        "colab": {
          "base_uri": "https://localhost:8080/"
        },
        "id": "mgKzzEkuVDjp",
        "outputId": "499675a8-88be-4bde-a754-1dbeeec506a4"
      },
      "execution_count": 6,
      "outputs": [
        {
          "output_type": "stream",
          "name": "stdout",
          "text": [
            "enter string : Ayesha\n",
            "Enter Pattern : es\n",
            "OrderedDict([('A', None), ('y', None), ('e', None), ('s', None), ('h', None), ('a', None)])\n",
            "Pattern matched\n"
          ]
        }
      ]
    },
    {
      "cell_type": "markdown",
      "source": [
        "7. Write a Python program to sort Python Dictionaries by Key or Value?"
      ],
      "metadata": {
        "id": "3e9Pnh9oVQ9P"
      }
    },
    {
      "cell_type": "code",
      "source": [
        "dict= {4:5 ,7:8 ,4:3 ,6:9 ,9:5 ,4:2 }\n",
        "#Print sorted list of keys\n",
        "print(sorted(dict.keys()))\n",
        "#Print sorted list of items\n",
        "print(sorted(dict.items()))"
      ],
      "metadata": {
        "colab": {
          "base_uri": "https://localhost:8080/"
        },
        "id": "8JIWqx9dVELe",
        "outputId": "c3db3b78-47ec-4645-cc0a-2623dfdb5d9d"
      },
      "execution_count": 7,
      "outputs": [
        {
          "output_type": "stream",
          "name": "stdout",
          "text": [
            "[4, 6, 7, 9]\n",
            "[(4, 2), (6, 9), (7, 8), (9, 5)]\n"
          ]
        }
      ]
    },
    {
      "cell_type": "code",
      "source": [
        "dic2 = {4:5 ,7:8 ,4:3 ,6:9 ,9:5 ,4:2 }\n",
        "print(sorted(dic2.values()))\n",
        "#Print sorted list of values"
      ],
      "metadata": {
        "colab": {
          "base_uri": "https://localhost:8080/"
        },
        "id": "GK6icFfTVxMg",
        "outputId": "49d591a0-1a0f-4297-9568-87950d4174ba"
      },
      "execution_count": 8,
      "outputs": [
        {
          "output_type": "stream",
          "name": "stdout",
          "text": [
            "[2, 5, 8, 9]\n"
          ]
        }
      ]
    }
  ]
}