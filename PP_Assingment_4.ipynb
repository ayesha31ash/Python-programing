{
  "nbformat": 4,
  "nbformat_minor": 0,
  "metadata": {
    "colab": {
      "provenance": [],
      "collapsed_sections": []
    },
    "kernelspec": {
      "name": "python3",
      "display_name": "Python 3"
    },
    "language_info": {
      "name": "python"
    }
  },
  "cells": [
    {
      "cell_type": "code",
      "execution_count": null,
      "metadata": {
        "id": "iLT55RezoqWk"
      },
      "outputs": [],
      "source": [
        "1. Write a Python Program to Find the Factorial of a Number?"
      ]
    },
    {
      "cell_type": "code",
      "source": [
        "x = int(input(\"Enter a Number \"))\n",
        "factorial = 1\n",
        "if x < 0:\n",
        "    print(\"Can not calculate Factorial of a negative number\")\n",
        "elif x == 0:\n",
        "    print(\"Factorial of zero is 1\")\n",
        "else:\n",
        "    for i in range(1,x+1):\n",
        "        factorial = factorial * i\n",
        "print(\"Factorial of {} is {}\".format(x, factorial))"
      ],
      "metadata": {
        "colab": {
          "base_uri": "https://localhost:8080/"
        },
        "id": "e4BgoJVW-Lcm",
        "outputId": "d88c0a8c-87e8-46c5-cba0-2fd916be7fb0"
      },
      "execution_count": null,
      "outputs": [
        {
          "output_type": "stream",
          "name": "stdout",
          "text": [
            "Enter a Number 7\n",
            "Factorial of 7 is 5040\n"
          ]
        }
      ]
    },
    {
      "cell_type": "markdown",
      "source": [
        "2. Write a Python Program to Display the multiplication Table?"
      ],
      "metadata": {
        "id": "PMwA2jHu9_78"
      }
    },
    {
      "cell_type": "code",
      "source": [
        "x = int(input(\"Enter a no for Table\"))\n",
        "print(\"Multiplication table for\",x)\n",
        "for i in range(1,11):\n",
        "    print(\"{} x {} = {}\".format(x , i , x*i))"
      ],
      "metadata": {
        "colab": {
          "base_uri": "https://localhost:8080/"
        },
        "id": "fE-jrB5R-PbB",
        "outputId": "3a716f37-c889-45aa-cad3-2f96c1703a59"
      },
      "execution_count": null,
      "outputs": [
        {
          "output_type": "stream",
          "name": "stdout",
          "text": [
            "Enter a no for Table24\n",
            "Multiplication table for 24\n",
            "24 x 1 = 24\n",
            "24 x 2 = 48\n",
            "24 x 3 = 72\n",
            "24 x 4 = 96\n",
            "24 x 5 = 120\n",
            "24 x 6 = 144\n",
            "24 x 7 = 168\n",
            "24 x 8 = 192\n",
            "24 x 9 = 216\n",
            "24 x 10 = 240\n"
          ]
        }
      ]
    },
    {
      "cell_type": "markdown",
      "source": [
        "3. Write a Python Program to Print the Fibonacci sequence?"
      ],
      "metadata": {
        "id": "3oZ8pH7J-CDX"
      }
    },
    {
      "cell_type": "code",
      "source": [
        "# Fibonacci series - > 1, 1, 2, 3, 5,8,13........\n",
        "def genfib(n):\n",
        "    a =1\n",
        "    b= 1\n",
        "    l =[]\n",
        "    for i in range(n):\n",
        "        l.append(a)\n",
        "        a , b = b , a+b\n",
        "    return l  \n",
        "    "
      ],
      "metadata": {
        "id": "-j03cvaW-lb-"
      },
      "execution_count": null,
      "outputs": []
    },
    {
      "cell_type": "code",
      "source": [
        "genfib(6)"
      ],
      "metadata": {
        "colab": {
          "base_uri": "https://localhost:8080/"
        },
        "id": "znYosyH1-qGh",
        "outputId": "a13f5699-a0ef-48b8-d90d-668a4a659653"
      },
      "execution_count": null,
      "outputs": [
        {
          "output_type": "execute_result",
          "data": {
            "text/plain": [
              "[1, 1, 2, 3, 5, 8]"
            ]
          },
          "metadata": {},
          "execution_count": 6
        }
      ]
    },
    {
      "cell_type": "markdown",
      "source": [
        "4. Write a Python Program to Check Armstrong Number?"
      ],
      "metadata": {
        "id": "usLHCGVM-EXe"
      }
    },
    {
      "cell_type": "code",
      "source": [
        "x = int(input(\"Enter the number : \"))\n",
        "\n",
        "power = len(str(x))\n",
        "\n",
        "y = x\n",
        "sum = 0\n",
        "while y > 0:\n",
        "    digit = y % 10\n",
        "    sum = sum + digit ** power\n",
        "    y = y//10\n",
        "if x == sum :\n",
        "    print(\"Number is armstrong number\")\n",
        "else:\n",
        "    print(\"Not an armstrong number\")"
      ],
      "metadata": {
        "colab": {
          "base_uri": "https://localhost:8080/"
        },
        "id": "ua5Yfzmfku1v",
        "outputId": "f977c9ce-0145-4687-ec62-185c0e9ec1dc"
      },
      "execution_count": null,
      "outputs": [
        {
          "output_type": "stream",
          "name": "stdout",
          "text": [
            "Enter the number : 700\n",
            "Not an armstrong number\n"
          ]
        }
      ]
    },
    {
      "cell_type": "markdown",
      "source": [
        "5. Write a Python Program to Find Armstrong Number in an Interval?cff"
      ],
      "metadata": {
        "id": "CF-HYtAaAltZ"
      }
    },
    {
      "cell_type": "code",
      "source": [
        "## Find Armstrong Number in an Interval\n",
        "x = int(input(\"Low no : \"))\n",
        "y = int(input(\"Up no : \"))\n",
        "\n",
        "\n",
        "for i in range(x,y+1):\n",
        "    power = len(str(i))\n",
        "    temp = i\n",
        "    sum = 0\n",
        "    while temp > 0:\n",
        "        digit = temp % 10\n",
        "        sum = sum + digit ** power\n",
        "        temp = temp//10\n",
        "    if i == sum :\n",
        "        print(i)"
      ],
      "metadata": {
        "colab": {
          "base_uri": "https://localhost:8080/"
        },
        "id": "AWYQyZoRk0Pm",
        "outputId": "fe671260-c252-4864-f0d5-4abc127e1503"
      },
      "execution_count": null,
      "outputs": [
        {
          "output_type": "stream",
          "name": "stdout",
          "text": [
            "Low no : 40\n",
            "Up no : 9999\n",
            "153\n",
            "370\n",
            "371\n",
            "407\n",
            "1634\n",
            "8208\n",
            "9474\n"
          ]
        }
      ]
    },
    {
      "cell_type": "markdown",
      "source": [
        "6. Write a Python Program to Find the Sum of Natural Numbers?"
      ],
      "metadata": {
        "id": "hltoKRLQ-JCj"
      }
    },
    {
      "cell_type": "code",
      "source": [
        "x = int(input(\"enter the number : \"))\n",
        "\n",
        "sum = 0\n",
        "for i in range(0,x+1):\n",
        "    sum+=i\n",
        "print(\"Sum of natural numbers upto {} is {}\".format(x,sum))"
      ],
      "metadata": {
        "colab": {
          "base_uri": "https://localhost:8080/"
        },
        "id": "ICHlIpd4lCLk",
        "outputId": "3adb0a4e-ecb8-40aa-8a40-752ef54c56eb"
      },
      "execution_count": null,
      "outputs": [
        {
          "output_type": "stream",
          "name": "stdout",
          "text": [
            "enter the number : 450\n",
            "Sum of natural numbers upto 450 is 101475\n"
          ]
        }
      ]
    }
  ]
}