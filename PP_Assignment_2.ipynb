{
  "nbformat": 4,
  "nbformat_minor": 0,
  "metadata": {
    "colab": {
      "provenance": [],
      "collapsed_sections": []
    },
    "kernelspec": {
      "name": "python3",
      "display_name": "Python 3"
    },
    "language_info": {
      "name": "python"
    }
  },
  "cells": [
    {
      "cell_type": "markdown",
      "source": [
        "1. Write a Python program to convert kilometers to miles?"
      ],
      "metadata": {
        "id": "v77f-S_omiPs"
      }
    },
    {
      "cell_type": "code",
      "source": [
        "km = int(input(\"Enter Kilometer: \"))\n",
        "miles = km*0.62\n",
        "print(\"Miles = \" , miles)"
      ],
      "metadata": {
        "colab": {
          "base_uri": "https://localhost:8080/"
        },
        "id": "mK125lPXmts6",
        "outputId": "5302f803-957e-4018-f0d6-93b5bb963f46"
      },
      "execution_count": 1,
      "outputs": [
        {
          "output_type": "stream",
          "name": "stdout",
          "text": [
            "Enter Kilometer: 10\n",
            "Miles =  6.2\n"
          ]
        }
      ]
    },
    {
      "cell_type": "markdown",
      "source": [
        "2. Write a Python program to convert Celsius to Fahrenheit?"
      ],
      "metadata": {
        "id": "e4fAKy-4mjU5"
      }
    },
    {
      "cell_type": "code",
      "source": [
        "Celsius = int(input(\"Enter Celsius : \"))\n",
        "\n",
        "fahrenheit = (Celsius * 9/5) +32\n",
        "print('Fahrenheit: ',fahrenheit)"
      ],
      "metadata": {
        "colab": {
          "base_uri": "https://localhost:8080/"
        },
        "id": "6CkHqHaimzc1",
        "outputId": "01705fb8-19d8-4a38-f6b0-cf358acab116"
      },
      "execution_count": 4,
      "outputs": [
        {
          "output_type": "stream",
          "name": "stdout",
          "text": [
            "Enter Celsius : 45\n",
            "Fahrenheit:  113.0\n"
          ]
        }
      ]
    },
    {
      "cell_type": "markdown",
      "source": [
        "3. Write a Python program to display calendar?"
      ],
      "metadata": {
        "id": "uzMW12tyml2C"
      }
    },
    {
      "cell_type": "code",
      "source": [
        "import calendar\n",
        "yy = int(input(\"Enter year = \"))\n",
        "mm = int(input(\"Enter month in number = \"))\n",
        "print(calendar.month(yy,mm))"
      ],
      "metadata": {
        "colab": {
          "base_uri": "https://localhost:8080/"
        },
        "id": "mfqabqoInHDd",
        "outputId": "a1622898-72c9-4180-e174-ded5f7f7b87c"
      },
      "execution_count": 5,
      "outputs": [
        {
          "output_type": "stream",
          "name": "stdout",
          "text": [
            "Enter year = 2034\n",
            "Enter month in number = 5\n",
            "      May 2034\n",
            "Mo Tu We Th Fr Sa Su\n",
            " 1  2  3  4  5  6  7\n",
            " 8  9 10 11 12 13 14\n",
            "15 16 17 18 19 20 21\n",
            "22 23 24 25 26 27 28\n",
            "29 30 31\n",
            "\n"
          ]
        }
      ]
    },
    {
      "cell_type": "markdown",
      "source": [
        "4. Write a Python program to solve quadratic equation?"
      ],
      "metadata": {
        "id": "amCI2HS3mn67"
      }
    },
    {
      "cell_type": "code",
      "source": [
        "import cmath\n",
        "a=int(input(\"Enter a = \"))\n",
        "b=int(input(\"Enter b = \"))\n",
        "c=int(input(\"Enter c = \"))\n",
        "discriminant = (b**2)-(4*a*c)\n",
        "sol_one = (-b+cmath.sqrt(discriminant))/(2*a)\n",
        "sol_two = (-b-cmath.sqrt(discriminant))/(2*a)\n",
        "print(sol_one ,\",\", sol_two)"
      ],
      "metadata": {
        "colab": {
          "base_uri": "https://localhost:8080/"
        },
        "id": "r1Yug4XVnOOr",
        "outputId": "9a0075f3-c02d-4d79-a327-7fc7306303da"
      },
      "execution_count": 6,
      "outputs": [
        {
          "output_type": "stream",
          "name": "stdout",
          "text": [
            "Enter a = 5\n",
            "Enter b = 6\n",
            "Enter c = 9\n",
            "(-0.6+1.2j) , (-0.6-1.2j)\n"
          ]
        }
      ]
    },
    {
      "cell_type": "markdown",
      "source": [
        "5. Write a Python program to swap two variables without temp variable?"
      ],
      "metadata": {
        "id": "OLlIF4iemqKu"
      }
    },
    {
      "cell_type": "code",
      "execution_count": 7,
      "metadata": {
        "colab": {
          "base_uri": "https://localhost:8080/"
        },
        "id": "298yAAZmmfWS",
        "outputId": "8681398d-7640-4926-9db7-093af8c39d9b"
      },
      "outputs": [
        {
          "output_type": "stream",
          "name": "stdout",
          "text": [
            "First Variable =45\n",
            "Second Variable =76\n",
            "First Variable Before swap  : 45 \n",
            " Second variable Before Swap  : 76\n",
            "After Swap : \n",
            " First Variabe : 76 \n",
            "  Second Variable : 45\n"
          ]
        }
      ],
      "source": [
        "first_variable = int(input(\"First Variable =\"))\n",
        "second_variable = int(input(\"Second Variable =\"))\n",
        "print(\"First Variable Before swap  : {} \\n Second variable Before Swap  : {}\".format(first_variable,second_variable))\n",
        "first_variable , second_variable = second_variable , first_variable\n",
        "\n",
        "print(\"After Swap : \\n First Variabe : {} \\n  Second Variable : {}\".format(first_variable , second_variable))"
      ]
    }
  ]
}