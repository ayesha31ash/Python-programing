{
  "nbformat": 4,
  "nbformat_minor": 0,
  "metadata": {
    "colab": {
      "provenance": []
    },
    "kernelspec": {
      "name": "python3",
      "display_name": "Python 3"
    },
    "language_info": {
      "name": "python"
    }
  },
  "cells": [
    {
      "cell_type": "markdown",
      "source": [
        "1. Write a Python program to find words which are greater than given length k?"
      ],
      "metadata": {
        "id": "ms7see8KGPBZ"
      }
    },
    {
      "cell_type": "code",
      "source": [
        "def Biggerthank(k,str):\n",
        "    txt = str.split()\n",
        "    Wordlist = []\n",
        "    for i in txt:\n",
        "        if len(i) > k:\n",
        "            Wordlist.append(i)\n",
        "    return Wordlist\n",
        "\n",
        "str = input(\"Enter the string : \")\n",
        "k = int(input(\"Enter the lenth K : \"))\n",
        "\n",
        "Wordlist = Biggerthank(k,str)\n",
        "\n",
        "print(\"\\nThe original string ' {} '\".format(str))\n",
        "\n",
        "print(\"Words greater than k{}\".format(k))\n",
        "print(Wordlist)"
      ],
      "metadata": {
        "colab": {
          "base_uri": "https://localhost:8080/"
        },
        "id": "gP5lfRBsInX3",
        "outputId": "2a8ca629-3fa0-4c8c-9252-5cfa227e742d"
      },
      "execution_count": 1,
      "outputs": [
        {
          "output_type": "stream",
          "name": "stdout",
          "text": [
            "Enter the string : I love python\n",
            "Enter the lenth K : 2\n",
            "\n",
            "The original string ' I love python '\n",
            "Words greater than k2\n",
            "['love', 'python']\n"
          ]
        }
      ]
    },
    {
      "cell_type": "markdown",
      "source": [
        "2. Write a Python program for removing i-th character from a string?"
      ],
      "metadata": {
        "id": "R9Ak60POGQKO"
      }
    },
    {
      "cell_type": "code",
      "source": [
        "# Removes character at index i\n",
        "\n",
        "def remove(str, i): \n",
        "  \n",
        "    for j in range(len(str)):\n",
        "        if j == i:\n",
        "            str = str.replace(str[i], \"\", 1)\n",
        "    return str      \n",
        "\n",
        "str = input(\"Enter the string : \")\n",
        "i = int(input(\"Enter the index : \"))      \n",
        "\n",
        "# Print the new string\n",
        "\n",
        "print(\"The new string : \", remove(str, i))"
      ],
      "metadata": {
        "colab": {
          "base_uri": "https://localhost:8080/"
        },
        "id": "sJ8MeDudIt1G",
        "outputId": "29a3d206-c244-47a5-a27f-9f22b254062c"
      },
      "execution_count": 2,
      "outputs": [
        {
          "output_type": "stream",
          "name": "stdout",
          "text": [
            "Enter the string : Hey python\n",
            "Enter the index : 1\n",
            "The new string :  Hy python\n"
          ]
        }
      ]
    },
    {
      "cell_type": "markdown",
      "source": [
        "3. Write a Python program to split and join a string?"
      ],
      "metadata": {
        "id": "iwHPLLVGGSE1"
      }
    },
    {
      "cell_type": "code",
      "source": [
        "str = \"I love coding\"\n",
        "str = str.split(\" \") \n",
        "print(\"Spliting a string : \",str)\n",
        "\n",
        "\n",
        "str2 = \"-\".join(str)\n",
        "print(\"Joining a string : \",str2)"
      ],
      "metadata": {
        "colab": {
          "base_uri": "https://localhost:8080/"
        },
        "id": "CEpSZqtLJBjI",
        "outputId": "f5e19344-4d6d-4e2c-9a11-539ef4bc3feb"
      },
      "execution_count": 3,
      "outputs": [
        {
          "output_type": "stream",
          "name": "stdout",
          "text": [
            "Spliting a string :  ['I', 'love', 'coding']\n",
            "Joining a string :  I-love-coding\n"
          ]
        }
      ]
    },
    {
      "cell_type": "markdown",
      "source": [
        "4. Write a Python to check if a given string is binary string or not?"
      ],
      "metadata": {
        "id": "xz7LUxucGT81"
      }
    },
    {
      "cell_type": "code",
      "source": [
        "def ifbinary(str):\n",
        "    binary = '01'\n",
        "    for i in range(len(str)):\n",
        "        if str[i] not in binary:\n",
        "            print('Not Binary')\n",
        "            break\n",
        "    else:\n",
        "        print('Binary')\n",
        "        \n",
        "str = input(\"Enter the string : \")\n",
        "ifbinary(str)"
      ],
      "metadata": {
        "colab": {
          "base_uri": "https://localhost:8080/"
        },
        "id": "p7zpQDHMJFWN",
        "outputId": "c73e8168-b705-4ed4-b71b-9abe78182be0"
      },
      "execution_count": 5,
      "outputs": [
        {
          "output_type": "stream",
          "name": "stdout",
          "text": [
            "Enter the string : 10101011010\n",
            "Binary\n"
          ]
        }
      ]
    },
    {
      "cell_type": "markdown",
      "source": [
        "5. Write a Python program to find uncommon words from two Strings?"
      ],
      "metadata": {
        "id": "BhkztZDSGV-q"
      }
    },
    {
      "cell_type": "code",
      "source": [
        "def unCommon(a,b):\n",
        "    list_one = a.split()\n",
        "    list_two = b.split()\n",
        "    notcom =''\n",
        "    \n",
        "    for i in list_one:\n",
        "        if i not in list_two:\n",
        "            notcom = notcom +\" \"+ i\n",
        "    for j in list_two:\n",
        "        if j not in list_one:\n",
        "            notcom = notcom +\" \"+ j\n",
        "    return notcom\n",
        "\n",
        "a = input(\"Enter the string a : \").lower()\n",
        "b = input(\"Enter the string b : \").lower()\n",
        "\n",
        "print(\"The list of un Common words : \", unCommon(a,b))"
      ],
      "metadata": {
        "colab": {
          "base_uri": "https://localhost:8080/"
        },
        "id": "X_bLbSHvJU5F",
        "outputId": "021282d5-2f0a-441b-a95e-596affaaf0be"
      },
      "execution_count": 6,
      "outputs": [
        {
          "output_type": "stream",
          "name": "stdout",
          "text": [
            "Enter the string a : One is One \n",
            "Enter the string b : One plus One is two\n",
            "The list of un Common words :   plus two\n"
          ]
        }
      ]
    },
    {
      "cell_type": "markdown",
      "source": [
        "6. Write a Python to find all duplicate characters in string?"
      ],
      "metadata": {
        "id": "NJERgHROGYP5"
      }
    },
    {
      "cell_type": "code",
      "source": [
        "str = input(\"Enter the string a : \").lower()\n",
        "duplicate = []\n",
        "\n",
        "for i in str:\n",
        "    if str.count(i) > 1 :\n",
        "        if i not in duplicate:\n",
        "            duplicate.append(i)\n",
        "        \n",
        "duplicate"
      ],
      "metadata": {
        "colab": {
          "base_uri": "https://localhost:8080/"
        },
        "id": "BLN3MFzDJ3K5",
        "outputId": "15ebb67a-3f2a-4808-fab1-9b30719d6fde"
      },
      "execution_count": 7,
      "outputs": [
        {
          "name": "stdout",
          "output_type": "stream",
          "text": [
            "Enter the string a : hELLO WORLD\n"
          ]
        },
        {
          "output_type": "execute_result",
          "data": {
            "text/plain": [
              "['l', 'o']"
            ]
          },
          "metadata": {},
          "execution_count": 7
        }
      ]
    },
    {
      "cell_type": "markdown",
      "source": [
        "7. Write a Python Program to check if a string contains any special character?"
      ],
      "metadata": {
        "id": "ffJGyHF5Gagx"
      }
    },
    {
      "cell_type": "code",
      "execution_count": 8,
      "metadata": {
        "colab": {
          "base_uri": "https://localhost:8080/"
        },
        "id": "9Vxj6NdsGOQm",
        "outputId": "69511bb5-de78-4b21-890e-b22d6e66458c"
      },
      "outputs": [
        {
          "output_type": "stream",
          "name": "stdout",
          "text": [
            "Enter the string a : i am !@##$%\n",
            "String i am !@##$% has special charecter/s : ['!', '@', '#', '#', '$', '%']\n"
          ]
        }
      ],
      "source": [
        "import string\n",
        "\n",
        "str_char = string.punctuation\n",
        "speci_str = []\n",
        "\n",
        "str = input(\"Enter the string a : \").lower()\n",
        "for i in str:\n",
        "    if i in str_char:\n",
        "        speci_str.append(i)\n",
        "if len(speci_str) > 0:\n",
        "    print(\"String {} has special charecter/s : {}\".format(str,speci_str))"
      ]
    }
  ]
}