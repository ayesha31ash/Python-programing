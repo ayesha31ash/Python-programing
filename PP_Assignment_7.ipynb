{
  "nbformat": 4,
  "nbformat_minor": 0,
  "metadata": {
    "colab": {
      "provenance": [],
      "collapsed_sections": []
    },
    "kernelspec": {
      "name": "python3",
      "display_name": "Python 3"
    },
    "language_info": {
      "name": "python"
    }
  },
  "cells": [
    {
      "cell_type": "markdown",
      "source": [
        "1. Write a Python Program to find sum of array?"
      ],
      "metadata": {
        "id": "QCZkka1PzqYD"
      }
    },
    {
      "cell_type": "code",
      "source": [
        "sum =0\n",
        "arr = [1,2,3,4,5,9]\n",
        "for i in range(0,len(arr)):\n",
        "    sum+=arr[i]\n",
        "print(\"Sum : \",sum)"
      ],
      "metadata": {
        "colab": {
          "base_uri": "https://localhost:8080/"
        },
        "id": "pxzcvSNAz1HN",
        "outputId": "8933fbac-ac7d-4bc1-82ee-93c13298bada"
      },
      "execution_count": 1,
      "outputs": [
        {
          "output_type": "stream",
          "name": "stdout",
          "text": [
            "Sum :  24\n"
          ]
        }
      ]
    },
    {
      "cell_type": "markdown",
      "source": [
        "2. Write a Python Program to find largest element in an array?"
      ],
      "metadata": {
        "id": "MjZeqsG3zr2S"
      }
    },
    {
      "cell_type": "code",
      "source": [
        "c = 0\n",
        "arr = [1,2,3,4,77,9]\n",
        "for i in range(0, len(arr)):\n",
        "  if c > arr[i]:\n",
        "    print(c)\n",
        "  else :\n",
        "    c = arr[i]\n",
        "\n",
        "print(\"Largest element in {} is {}\".format(arr ,c) )"
      ],
      "metadata": {
        "colab": {
          "base_uri": "https://localhost:8080/"
        },
        "id": "LWnPSMvkz3bP",
        "outputId": "1a13bcb8-1986-4ab4-fe78-d939d664fea0"
      },
      "execution_count": 2,
      "outputs": [
        {
          "output_type": "stream",
          "name": "stdout",
          "text": [
            "77\n",
            "Largest element in [1, 2, 3, 4, 77, 9] is 77\n"
          ]
        }
      ]
    },
    {
      "cell_type": "markdown",
      "source": [
        "3. Write a Python Program for array rotation?"
      ],
      "metadata": {
        "id": "NrCzWYfFzt6P"
      }
    },
    {
      "cell_type": "code",
      "source": [
        "arr = [1,2,3,4,77,9]\n",
        "rot = []\n",
        "l = len(arr) -1\n",
        "for i in range(l , 0, -1):\n",
        "  print(arr[i])"
      ],
      "metadata": {
        "colab": {
          "base_uri": "https://localhost:8080/"
        },
        "id": "FxIRJnFGz84u",
        "outputId": "5a524cf0-05e5-4827-8433-be8ded5f40bf"
      },
      "execution_count": 6,
      "outputs": [
        {
          "output_type": "stream",
          "name": "stdout",
          "text": [
            "9\n",
            "77\n",
            "4\n",
            "3\n",
            "2\n"
          ]
        }
      ]
    },
    {
      "cell_type": "code",
      "source": [
        "l = int(input(\"Enter the lenth of arr : \"))\n",
        "arr = []\n",
        "\n",
        "for i in range(l):\n",
        "    arr.append(int(input()))\n",
        "print(\"Arr is \",arr)\n",
        "rotation = input(\"Enter Rotation Right/Left : \")\n",
        "noro = int(input(\"Enter the number of elements to rotate  : \"))\n",
        "if noro > l:\n",
        "    print(\"can not rotate as elements to rotate is larger then arr length\")\n",
        "else:\n",
        "    rarr = []\n",
        "    if rotation.upper() == \"RIGHT\":\n",
        "        rarr[:] = arr[-noro:] + arr[:(l-noro)]\n",
        "        print(\"After right rotation : \",rarr)\n",
        "    elif rotation.upper() == \"LEFT\":\n",
        "        rarr[:] = arr[noro:l] + arr[:noro] \n",
        "        print(\"After Left rotation : \",rarr)\n",
        "    else:\n",
        "        print(\"Wrong Entry\")"
      ],
      "metadata": {
        "colab": {
          "base_uri": "https://localhost:8080/"
        },
        "id": "fW2E83fO2M38",
        "outputId": "e2cc67d3-1723-42b4-e875-f8f3219a6477"
      },
      "execution_count": 7,
      "outputs": [
        {
          "output_type": "stream",
          "name": "stdout",
          "text": [
            "Enter the lenth of arr : 5\n",
            "2\n",
            "3\n",
            "6\n",
            "8\n",
            "9\n",
            "Arr is  [2, 3, 6, 8, 9]\n",
            "Enter Rotation Right/Left : 75\n",
            "Enter the number of elements to rotate  : 5\n",
            "Wrong Entry\n"
          ]
        }
      ]
    },
    {
      "cell_type": "markdown",
      "source": [
        "4. Write a Python Program to Split the array and add the first part to the end?"
      ],
      "metadata": {
        "id": "LyXnXVqbzwMh"
      }
    },
    {
      "cell_type": "code",
      "source": [
        "l = int(input(\"Enter the lenth of your list : \"))\n",
        "arr = []\n",
        "\n",
        "for i in range(l):\n",
        "    arr.append(int(input()))\n",
        "print(\"The List  \",arr)\n",
        "\n",
        "noro = int(input(\"Enter the number of elements to split  : \"))\n",
        "if noro > l:\n",
        "    print(\"can not split as elements to split is larger then list lengh\")\n",
        "else:\n",
        "    print(\"The split list is :\",arr[:noro])\n",
        "    rarr[:] = arr[noro:l] + arr[:noro]\n",
        "    print(\"The List after split and add :\", rarr)\n"
      ],
      "metadata": {
        "colab": {
          "base_uri": "https://localhost:8080/"
        },
        "id": "BmUZok_iz_nZ",
        "outputId": "53026949-3435-4f5c-88ce-5d12862f7950"
      },
      "execution_count": 8,
      "outputs": [
        {
          "output_type": "stream",
          "name": "stdout",
          "text": [
            "Enter the lenth of your list : 4\n",
            "1\n",
            "4\n",
            "6\n",
            "8\n",
            "The List   [1, 4, 6, 8]\n",
            "Enter the number of elements to split  : 4\n",
            "The split list is : [1, 4, 6, 8]\n",
            "The List after split and add : [1, 4, 6, 8]\n"
          ]
        }
      ]
    },
    {
      "cell_type": "markdown",
      "source": [
        "5. Write a Python Program to check if given array is Monotonic?"
      ],
      "metadata": {
        "id": "QAXqqLZUzyX0"
      }
    },
    {
      "cell_type": "code",
      "execution_count": 9,
      "metadata": {
        "colab": {
          "base_uri": "https://localhost:8080/"
        },
        "id": "1DDfBF62zoXk",
        "outputId": "40099ca7-a759-4f94-8163-17beacffe872"
      },
      "outputs": [
        {
          "output_type": "stream",
          "name": "stdout",
          "text": [
            "Enter the lenth of your list : 6\n",
            "21\n",
            "32\n",
            "43\n",
            "54\n",
            "65\n",
            "76\n",
            "The List is  [21, 32, 43, 54, 65, 76]\n",
            "Monotonic\n"
          ]
        }
      ],
      "source": [
        "l = int(input(\"Enter the lenth of your list : \"))\n",
        "arr = []\n",
        "\n",
        "for i in range(l):\n",
        "    arr.append(int(input()))\n",
        "print(\"The List is \",arr)\n",
        "\n",
        "if all((arr[i] <= arr[i+1] for i in range(l-1)) or (arr[i] >= lst[i+1] for i in range(l-1))):\n",
        "    print(\"Monotonic\")\n",
        "else:\n",
        "    print(\"Not Monotonic\")"
      ]
    }
  ]
}