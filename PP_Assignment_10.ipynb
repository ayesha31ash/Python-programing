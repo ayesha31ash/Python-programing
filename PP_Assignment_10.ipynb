{
  "nbformat": 4,
  "nbformat_minor": 0,
  "metadata": {
    "colab": {
      "provenance": [],
      "collapsed_sections": []
    },
    "kernelspec": {
      "name": "python3",
      "display_name": "Python 3"
    },
    "language_info": {
      "name": "python"
    }
  },
  "cells": [
    {
      "cell_type": "markdown",
      "source": [
        "1. Write a Python program to find sum of elements in list?"
      ],
      "metadata": {
        "id": "xGG5Mqea02--"
      }
    },
    {
      "cell_type": "code",
      "source": [
        "156n = int(input(\"Enter the lenth of your list : \"))\n",
        "lst = []\n",
        "\n",
        "for i in range(n):\n",
        "    lst.append(int(input()))\n",
        "print(\"The List is \",lst)\n",
        "print(\"Sum of elements in List\",sum(lst))"
      ],
      "metadata": {
        "colab": {
          "base_uri": "https://localhost:8080/"
        },
        "id": "_0hgowBeAZTx",
        "outputId": "cc0eacee-c039-4944-dae3-28dee8c58441"
      },
      "execution_count": 1,
      "outputs": [
        {
          "output_type": "stream",
          "name": "stdout",
          "text": [
            "Enter the lenth of your list : 4\n",
            "3\n",
            "5\n",
            "7\n",
            "9\n",
            "The List is  [3, 5, 7, 9]\n",
            "Sum of elements in List 24\n"
          ]
        }
      ]
    },
    {
      "cell_type": "markdown",
      "source": [
        "2. Write a Python program to Multiply all numbers in the list?"
      ],
      "metadata": {
        "id": "RCkCgupFAC_T"
      }
    },
    {
      "cell_type": "code",
      "source": [
        "n = int(input(\"Enter the lenth of your list : \"))\n",
        "lst = []\n",
        "\n",
        "for i in range(n):\n",
        "    lst.append(int(input()))\n",
        "print(\"The List is \",lst)\n",
        "product = 1\n",
        "for i in lst:\n",
        "    product = product*i\n",
        "print(\"Product of elements in List is :\",product)"
      ],
      "metadata": {
        "colab": {
          "base_uri": "https://localhost:8080/"
        },
        "id": "i6Y98JL0ELeZ",
        "outputId": "52cc75d5-d6f6-4c75-f714-cb7bb2c5176e"
      },
      "execution_count": 2,
      "outputs": [
        {
          "output_type": "stream",
          "name": "stdout",
          "text": [
            "Enter the lenth of your list : 7\n",
            "1\n",
            "2\n",
            "4\n",
            "34\n",
            "54\n",
            "6\n",
            "78\n",
            "The List is  [1, 2, 4, 34, 54, 6, 78]\n",
            "Product of elements in List is : 6873984\n"
          ]
        }
      ]
    },
    {
      "cell_type": "markdown",
      "source": [
        "3. Write a Python program to find smallest number in a list?"
      ],
      "metadata": {
        "id": "B0XQvBBqAFK0"
      }
    },
    {
      "cell_type": "code",
      "source": [
        "n = int(input(\"Enter the lenth of your list : \"))\n",
        "lst = []\n",
        "\n",
        "for i in range(n):\n",
        "    lst.append(int(input()))\n",
        "print(\"The List is \",lst)\n",
        "print(\"The Smallest no. in the list is :\",min(lst))"
      ],
      "metadata": {
        "colab": {
          "base_uri": "https://localhost:8080/"
        },
        "id": "6N16hOKEEPD6",
        "outputId": "fd1bebe8-09a6-4759-b98d-ee802cca7807"
      },
      "execution_count": 3,
      "outputs": [
        {
          "output_type": "stream",
          "name": "stdout",
          "text": [
            "Enter the lenth of your list : 5\n",
            "2\n",
            "54\n",
            "34\n",
            "7\n",
            "764\n",
            "The List is  [2, 54, 34, 7, 764]\n",
            "The Smallest no. in the list is : 2\n"
          ]
        }
      ]
    },
    {
      "cell_type": "markdown",
      "source": [
        "4. Write a Python program to find largest number in a list?"
      ],
      "metadata": {
        "id": "c6SvUeeUAHbq"
      }
    },
    {
      "cell_type": "code",
      "source": [
        "\n",
        "n = int(input(\"Enter the lenth of your list : \"))\n",
        "lst = []\n",
        "\n",
        "for i in range(n):\n",
        "    lst.append(int(input()))\n",
        "print(\"The List is \",lst)\n",
        "print(\"The largest no. in the list is :\",max(lst))"
      ],
      "metadata": {
        "colab": {
          "base_uri": "https://localhost:8080/"
        },
        "id": "oxp95M9xESMd",
        "outputId": "0850fad9-7e15-45d3-8908-37fc70c70626"
      },
      "execution_count": 4,
      "outputs": [
        {
          "output_type": "stream",
          "name": "stdout",
          "text": [
            "Enter the lenth of your list : 5\n",
            "32\n",
            "4\n",
            "65\n",
            "4567\n",
            "75\n",
            "The List is  [32, 4, 65, 4567, 75]\n",
            "The largest no. in the list is : 4567\n"
          ]
        }
      ]
    },
    {
      "cell_type": "markdown",
      "source": [
        "5. Write a Python program to find second largest number in a list?"
      ],
      "metadata": {
        "id": "5PDgcHPgAJrV"
      }
    },
    {
      "cell_type": "code",
      "source": [
        "n = int(input(\"Enter the lenth of your list : \"))\n",
        "lst = []\n",
        "\n",
        "for i in range(n):\n",
        "    lst.append(int(input()))\n",
        "print(\"The List is \",lst)\n",
        "lst.sort()\n",
        "print(\"The sorted list is \",lst)\n",
        "print(\"The second largest number in the list is \",lst[-2])"
      ],
      "metadata": {
        "colab": {
          "base_uri": "https://localhost:8080/"
        },
        "id": "wdLMdHuUEU_F",
        "outputId": "5c3b4dc1-0f0f-4bf8-a9a9-1ffe08d0ed20"
      },
      "execution_count": 5,
      "outputs": [
        {
          "output_type": "stream",
          "name": "stdout",
          "text": [
            "Enter the lenth of your list : 6\n",
            "345\n",
            "542\n",
            "456\n",
            "5\n",
            "43\n",
            "76\n",
            "The List is  [345, 542, 456, 5, 43, 76]\n",
            "The sorted list is  [5, 43, 76, 345, 456, 542]\n",
            "The second largest number in the list is  456\n"
          ]
        }
      ]
    },
    {
      "cell_type": "markdown",
      "source": [
        "6. Write a Python program to find N largest elements from a list?"
      ],
      "metadata": {
        "id": "jyyLrCkaAL9R"
      }
    },
    {
      "cell_type": "code",
      "source": [
        "n = int(input(\"Enter the lenth of your list : \"))\n",
        "lst = []\n",
        "\n",
        "for i in range(n):\n",
        "    lst.append(int(input()))\n",
        "print(\"The List is \",lst)\n",
        "lst.sort()\n",
        "print(\"The sorted list is \",lst)\n",
        "nlar = int(input(\"Enter how many largest number you want from list:\"))\n",
        "\n",
        "if n < nlar :\n",
        "    print(\"enterted value is larger then the length of list\")\n",
        "else:\n",
        "    print(nlar,\"largest elements from the list are :\",lst[(n-nlar):])"
      ],
      "metadata": {
        "colab": {
          "base_uri": "https://localhost:8080/"
        },
        "id": "1zzqrmTsEX_D",
        "outputId": "b1a7a692-9408-4aa5-c39d-10d8b7c6b7ec"
      },
      "execution_count": 6,
      "outputs": [
        {
          "output_type": "stream",
          "name": "stdout",
          "text": [
            "Enter the lenth of your list : 6\n",
            "34\n",
            "456\n",
            "65\n",
            "78\n",
            "98\n",
            "23\n",
            "The List is  [34, 456, 65, 78, 98, 23]\n",
            "The sorted list is  [23, 34, 65, 78, 98, 456]\n",
            "Enter how many largest number you want from list:3\n",
            "3 largest elements from the list are : [78, 98, 456]\n"
          ]
        }
      ]
    },
    {
      "cell_type": "markdown",
      "source": [
        "7. Write a Python program to print even numbers in a list?"
      ],
      "metadata": {
        "id": "CTyHvlZBAOPX"
      }
    },
    {
      "cell_type": "code",
      "source": [
        "lent =  int(input(\"Enter  the len of the list :\"))\n",
        "lst = []\n",
        "for i in  range(lent):\n",
        "  lst.append(int(input()))\n",
        "print(\"The List is :\" ,lst)\n",
        "even = [i for i in lst if i%2==0 ]\n",
        "print(\"The even numbers in list\" , even)"
      ],
      "metadata": {
        "colab": {
          "base_uri": "https://localhost:8080/"
        },
        "id": "W3uf0KhvEbWl",
        "outputId": "03637b09-a038-4959-8b90-ca81ba6cd429"
      },
      "execution_count": 7,
      "outputs": [
        {
          "output_type": "stream",
          "name": "stdout",
          "text": [
            "Enter  the len of the list :5\n",
            "43\n",
            "34\n",
            "543\n",
            "6\n",
            "567\n",
            "The List is : [43, 34, 543, 6, 567]\n",
            "The even numbers in list [34, 6]\n"
          ]
        }
      ]
    },
    {
      "cell_type": "markdown",
      "source": [
        "8. Write a Python program to print odd numbers in a List?"
      ],
      "metadata": {
        "id": "TZy0OLNgAQQ9"
      }
    },
    {
      "cell_type": "code",
      "source": [
        "lent =  int(input(\"Enter  the len of the list :\"))\n",
        "lst = []\n",
        "for i in  range(lent):\n",
        "  lst.append(int(input()))\n",
        "print(\"The List is :\" ,lst)\n",
        "odd = [i for i in lst if i%2 != 0 ]\n",
        "print(\"The even numbers in list\" , odd)"
      ],
      "metadata": {
        "colab": {
          "base_uri": "https://localhost:8080/"
        },
        "id": "Ol4R5YM1EfbF",
        "outputId": "c9b08335-99a1-4221-ef52-815d53cfd39b"
      },
      "execution_count": 9,
      "outputs": [
        {
          "output_type": "stream",
          "name": "stdout",
          "text": [
            "Enter  the len of the list :5\n",
            "43\n",
            "4\n",
            "56\n",
            "7\n",
            "896\n",
            "The List is : [43, 4, 56, 7, 896]\n",
            "The even numbers in list [43, 7]\n"
          ]
        }
      ]
    },
    {
      "cell_type": "markdown",
      "source": [
        "9. Write a Python program to Remove empty List from List?"
      ],
      "metadata": {
        "id": "8qQipZEjASQw"
      }
    },
    {
      "cell_type": "code",
      "source": [
        "lst = [55,[],14,75,[],96,80,[],36]\n",
        "print(\"The List :\",lst)\n",
        "new_list = [item for item in lst if item != []]\n",
        "print(\"The list after removing empty lists :\" , new_list)"
      ],
      "metadata": {
        "colab": {
          "base_uri": "https://localhost:8080/"
        },
        "id": "OimqtI4BEjdJ",
        "outputId": "32a494a9-8da8-49e5-d5b6-3f2914a3a20c"
      },
      "execution_count": 10,
      "outputs": [
        {
          "output_type": "stream",
          "name": "stdout",
          "text": [
            "The List : [55, [], 14, 75, [], 96, 80, [], 36]\n",
            "The list after removing empty lists : [55, 14, 75, 96, 80, 36]\n"
          ]
        }
      ]
    },
    {
      "cell_type": "markdown",
      "source": [
        "10. Write a Python program to Cloning or Copying a list?"
      ],
      "metadata": {
        "id": "QSmGBFfpAU2J"
      }
    },
    {
      "cell_type": "code",
      "source": [
        "n = int(input(\"Enter the lenth of your list : \"))\n",
        "lst = []\n",
        "\n",
        "for i in range(n):\n",
        "    lst.append(int(input()))\n",
        "print(\"The List is \",lst)\n",
        "\n",
        "lst_copy = lst.copy()\n",
        "print(\"Cloning By list copying lst \",lst_copy)"
      ],
      "metadata": {
        "colab": {
          "base_uri": "https://localhost:8080/"
        },
        "id": "NyocuQFEEnnJ",
        "outputId": "fcacf523-8005-424f-cf71-dc3823b15306"
      },
      "execution_count": 11,
      "outputs": [
        {
          "output_type": "stream",
          "name": "stdout",
          "text": [
            "Enter the lenth of your list : 6\n",
            "32\n",
            "34\n",
            "45\n",
            "5\n",
            "78\n",
            "654\n",
            "The List is  [32, 34, 45, 5, 78, 654]\n",
            "Cloning By list copying lst  [32, 34, 45, 5, 78, 654]\n"
          ]
        }
      ]
    },
    {
      "cell_type": "markdown",
      "source": [
        "11. Write a Python program to Count occurrences of an element in a list?"
      ],
      "metadata": {
        "id": "qyZuJ0hXAW1n"
      }
    },
    {
      "cell_type": "code",
      "source": [
        "lent = int(input(\"Enter the lenth of your list : \"))\n",
        "lst = []\n",
        "\n",
        "for i in range(lent):\n",
        "    lst.append(int(input()))\n",
        "print(\"The List is \",lst)\n",
        "ele= int(input(\"Enter the element to find its occurance : \"))\n",
        "print(ele,\"has occured {} times in the list \".format(lst.count(ele)))"
      ],
      "metadata": {
        "colab": {
          "base_uri": "https://localhost:8080/"
        },
        "id": "hpnReIweEonx",
        "outputId": "50c53960-ed56-4b40-ea51-6cc92c334d80"
      },
      "execution_count": 12,
      "outputs": [
        {
          "output_type": "stream",
          "name": "stdout",
          "text": [
            "Enter the lenth of your list : 7\n",
            "878\n",
            "79\n",
            "06\n",
            "560\n",
            "453\n",
            "45\n",
            "23\n",
            "The List is  [878, 79, 6, 560, 453, 45, 23]\n",
            "Enter the element to find its occurance : 4\n",
            "4 has occured 0 times in the list \n"
          ]
        }
      ]
    }
  ]
}