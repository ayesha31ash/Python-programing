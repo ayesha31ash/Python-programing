{
  "nbformat": 4,
  "nbformat_minor": 0,
  "metadata": {
    "colab": {
      "provenance": [],
      "collapsed_sections": []
    },
    "kernelspec": {
      "name": "python3",
      "display_name": "Python 3"
    },
    "language_info": {
      "name": "python"
    }
  },
  "cells": [
    {
      "cell_type": "markdown",
      "source": [
        "1. Write a Python Program to Check if a Number is Positive, Negative or Zero?"
      ],
      "metadata": {
        "id": "ERLdoRzznwON"
      }
    },
    {
      "cell_type": "code",
      "source": [
        "x = int(input(\"Enter a no.\"))\n",
        "if x > 0 :\n",
        "    print(\"{}  is a positive no.\".format(x))\n",
        "elif x < 0:\n",
        "    print(\"{}  is a Negative no.\".format(x))\n",
        "else :\n",
        "    print(\"it is zero\")"
      ],
      "metadata": {
        "colab": {
          "base_uri": "https://localhost:8080/"
        },
        "id": "LZJckQyAn6dY",
        "outputId": "7db1f5ef-2b8d-41e4-ada7-d8225d9e5ebb"
      },
      "execution_count": 1,
      "outputs": [
        {
          "output_type": "stream",
          "name": "stdout",
          "text": [
            "Enter a no.-17\n",
            "-17  is a Negative no.\n"
          ]
        }
      ]
    },
    {
      "cell_type": "markdown",
      "source": [
        "2. Write a Python Program to Check if a Number is Odd or Even?"
      ],
      "metadata": {
        "id": "bKeA-5cPnxNB"
      }
    },
    {
      "cell_type": "code",
      "source": [
        "x = int(input(\"Enter a no.\"))\n",
        "if x%2 ==0:\n",
        "     print(\"{}  is a even no.\".format(x))\n",
        "else:\n",
        "     print(\"{}  is a odd no.\".format(x))"
      ],
      "metadata": {
        "colab": {
          "base_uri": "https://localhost:8080/"
        },
        "id": "FsT60UdJoFEO",
        "outputId": "8a93aba9-a2e5-4ded-98d6-b85d12fb4c7d"
      },
      "execution_count": 2,
      "outputs": [
        {
          "output_type": "stream",
          "name": "stdout",
          "text": [
            "Enter a no.998\n",
            "998  is a even no.\n"
          ]
        }
      ]
    },
    {
      "cell_type": "markdown",
      "source": [
        "3. Write a Python Program to Check Leap Year?"
      ],
      "metadata": {
        "id": "M2Pn6ZkBnzMJ"
      }
    },
    {
      "cell_type": "code",
      "source": [
        "x = int(input(\"Enter Year.\"))\n",
        "if x%4 == 0:\n",
        "    print(\"{}  is a Leap Year\".format(x))\n",
        "else:\n",
        "    print(\"{}  is not a Leap Year\".format(x))"
      ],
      "metadata": {
        "colab": {
          "base_uri": "https://localhost:8080/"
        },
        "id": "A25MZSXIoJrj",
        "outputId": "b2bd574a-0088-4c6c-d08c-5283e75f4d43"
      },
      "execution_count": 3,
      "outputs": [
        {
          "output_type": "stream",
          "name": "stdout",
          "text": [
            "Enter Year.2025\n",
            "2025  is not a Leap Year\n"
          ]
        }
      ]
    },
    {
      "cell_type": "markdown",
      "source": [
        "4. Write a Python Program to Check Prime Number?"
      ],
      "metadata": {
        "id": "-CBj9czen1d_"
      }
    },
    {
      "cell_type": "code",
      "source": [
        "x = int(input(\"Enter a no.\"))\n",
        "for i in range(2,x):\n",
        "    if x % i == 0:\n",
        "        print(\"{} is not a prime no.\".format(x))\n",
        "        break\n",
        "else:\n",
        "              print(\"{} is  a prime no.\".format(x))"
      ],
      "metadata": {
        "colab": {
          "base_uri": "https://localhost:8080/"
        },
        "id": "MD2s34nioPkc",
        "outputId": "118d8558-6d98-4a8e-a34e-b78dcde79d90"
      },
      "execution_count": 4,
      "outputs": [
        {
          "output_type": "stream",
          "name": "stdout",
          "text": [
            "Enter a no.65\n",
            "65 is not a prime no.\n"
          ]
        }
      ]
    },
    {
      "cell_type": "markdown",
      "source": [
        "5. Write a Python Program to Print all Prime Numbers in an Interval of 1-10000?"
      ],
      "metadata": {
        "id": "sIYjWsb2n3xI"
      }
    },
    {
      "cell_type": "code",
      "execution_count": 5,
      "metadata": {
        "colab": {
          "base_uri": "https://localhost:8080/"
        },
        "id": "iBSAw688nrIn",
        "outputId": "99787618-d380-45d5-97ab-d1e05af1843a"
      },
      "outputs": [
        {
          "output_type": "stream",
          "name": "stdout",
          "text": [
            "Enter a number1: 23\n",
            "Enter a number2: 100\n",
            "23 is a prime number\n",
            "24 is not a prime\n",
            "25 is not a prime\n",
            "26 is not a prime\n",
            "27 is not a prime\n",
            "28 is not a prime\n",
            "29 is a prime number\n",
            "30 is not a prime\n",
            "31 is a prime number\n",
            "32 is not a prime\n",
            "33 is not a prime\n",
            "34 is not a prime\n",
            "35 is not a prime\n",
            "36 is not a prime\n",
            "37 is a prime number\n",
            "38 is not a prime\n",
            "39 is not a prime\n",
            "40 is not a prime\n",
            "41 is a prime number\n",
            "42 is not a prime\n",
            "43 is a prime number\n",
            "44 is not a prime\n",
            "45 is not a prime\n",
            "46 is not a prime\n",
            "47 is a prime number\n",
            "48 is not a prime\n",
            "49 is not a prime\n",
            "50 is not a prime\n",
            "51 is not a prime\n",
            "52 is not a prime\n",
            "53 is a prime number\n",
            "54 is not a prime\n",
            "55 is not a prime\n",
            "56 is not a prime\n",
            "57 is not a prime\n",
            "58 is not a prime\n",
            "59 is a prime number\n",
            "60 is not a prime\n",
            "61 is a prime number\n",
            "62 is not a prime\n",
            "63 is not a prime\n",
            "64 is not a prime\n",
            "65 is not a prime\n",
            "66 is not a prime\n",
            "67 is a prime number\n",
            "68 is not a prime\n",
            "69 is not a prime\n",
            "70 is not a prime\n",
            "71 is a prime number\n",
            "72 is not a prime\n",
            "73 is a prime number\n",
            "74 is not a prime\n",
            "75 is not a prime\n",
            "76 is not a prime\n",
            "77 is not a prime\n",
            "78 is not a prime\n",
            "79 is a prime number\n",
            "80 is not a prime\n",
            "81 is not a prime\n",
            "82 is not a prime\n",
            "83 is a prime number\n",
            "84 is not a prime\n",
            "85 is not a prime\n",
            "86 is not a prime\n",
            "87 is not a prime\n",
            "88 is not a prime\n",
            "89 is a prime number\n",
            "90 is not a prime\n",
            "91 is not a prime\n",
            "92 is not a prime\n",
            "93 is not a prime\n",
            "94 is not a prime\n",
            "95 is not a prime\n",
            "96 is not a prime\n",
            "97 is a prime number\n",
            "98 is not a prime\n",
            "99 is not a prime\n"
          ]
        }
      ],
      "source": [
        "x = int(input(\"Enter a number1: \")) \n",
        "y = int(input(\"Enter a number2: \")) \n",
        "for num in range(x,y):  \n",
        "    if num > 1:\n",
        "        for i in range(2,num):\n",
        "            if (num%i) == 0:\n",
        "                print(num,'is not a prime')                \n",
        "                break\n",
        "        else:\n",
        "            print(num,'is a prime number')"
      ]
    }
  ]
}